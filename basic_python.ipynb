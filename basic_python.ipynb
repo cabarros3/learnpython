{
  "nbformat": 4,
  "nbformat_minor": 0,
  "metadata": {
    "colab": {
      "name": "basic_python.ipynb",
      "provenance": [],
      "authorship_tag": "ABX9TyMIlSR4Ks46FPrZzJoW34sd",
      "include_colab_link": true
    },
    "kernelspec": {
      "name": "python3",
      "display_name": "Python 3"
    }
  },
  "cells": [
    {
      "cell_type": "markdown",
      "metadata": {
        "id": "view-in-github",
        "colab_type": "text"
      },
      "source": [
        "<a href=\"https://colab.research.google.com/github/cabarros3/learnpython/blob/main/basic_python.ipynb\" target=\"_parent\"><img src=\"https://colab.research.google.com/assets/colab-badge.svg\" alt=\"Open In Colab\"/></a>"
      ]
    },
    {
      "cell_type": "markdown",
      "metadata": {
        "id": "G8rzYa2LZChu"
      },
      "source": [
        "##Aprendendo Python\n",
        "\n",
        "*   (contra barra ' ) serve para inserir um apostrofo dentro de uma string (exemplo 1)\n",
        "*   Para inserir uma nova linha dentro de uma string use \\n (exemple 2)\n",
        "*   Para fazer um comentário multilinhas ''' (escreve-se três aspas simples ou duplas) - exemple 3\n",
        "*   Concatenação dentro de strings ('exemple 1' + 'Biespiel 2') - exemple 4\n",
        "*   Multiplicação de string por inteiros - exemple 5\n",
        "\n",
        "> Variáveis\n",
        "\n",
        "*   Variáveis guardam valores para serem usados mais tarde no programa - exemple 6\n",
        "*   Regras para nomear variáveis: letras, números e underscores. Não pode começar com números - Exemple 7\n",
        "*   Para deletar uma variável use del (delete) - exemple 8\n",
        "*   Função input() - para pegar uma entrada do usuário - exemple 9\n",
        "*   Especificando um tipo primitivo com uma entranda de usuário - Exemple 10\n",
        "*   Operadores in-palce use quando x = x + 3 --> x += 3\n",
        "\n",
        "\n",
        "END OF BASICS!!\n",
        "\n",
        "\n",
        "https://www.sololearn.com/ -- por onde eu estudei\n",
        "\n",
        "\n",
        "\n",
        "\n",
        "\n",
        "\n",
        "\n",
        "\n",
        "\n",
        "\n",
        "\n"
      ]
    },
    {
      "cell_type": "code",
      "metadata": {
        "id": "e4mpCrq2Y9EX",
        "outputId": "3d952c4c-5935-4be1-870d-07de1f9dd31f",
        "colab": {
          "base_uri": "https://localhost:8080/",
          "height": 34
        }
      },
      "source": [
        "# Exemple 1 - Beispiel 1\n",
        "# neste caso a contra barra (ou qualquer barra) no inglês se chama blackslash/blackslashes\n",
        "# barra tradicional (/) se chama apenas slash\n",
        "print('Brian\\'s mother: He\\'s not an angel. He\\'s a very naughty boy!')"
      ],
      "execution_count": 1,
      "outputs": [
        {
          "output_type": "stream",
          "text": [
            "Brian's mother: He's not an angel. He's a very naughty boy!\n"
          ],
          "name": "stdout"
        }
      ]
    },
    {
      "cell_type": "code",
      "metadata": {
        "id": "JjtNJc59awbX",
        "outputId": "dee7ef21-68f0-4b30-ef41-ae7ce0a543c9",
        "colab": {
          "base_uri": "https://localhost:8080/",
          "height": 68
        }
      },
      "source": [
        "# Exemple 2 - beispiel 2\n",
        "#utilizando a quebra de linha com o \\n\n",
        "print('lista: \\nItem 1\\nItem 2')"
      ],
      "execution_count": 2,
      "outputs": [
        {
          "output_type": "stream",
          "text": [
            "lista: \n",
            "Item 1\n",
            "Item 2\n"
          ],
          "name": "stdout"
        }
      ]
    },
    {
      "cell_type": "code",
      "metadata": {
        "id": "TqrdsByzcG4t",
        "outputId": "39346769-103a-41e1-bd2e-ebcbfa9e33d4",
        "colab": {
          "base_uri": "https://localhost:8080/",
          "height": 86
        }
      },
      "source": [
        "# Exemple 3 - biespiel 3\n",
        "# utilizando comentário multilinha e texto multilinha dentro da estring\n",
        "print('''Este é um texto multilinha\n",
        "linha 1\n",
        "linha 2''')"
      ],
      "execution_count": 6,
      "outputs": [
        {
          "output_type": "stream",
          "text": [
            "Este é um texto multilinha\n",
            "linha 1\n",
            "linha 2\n"
          ],
          "name": "stdout"
        },
        {
          "output_type": "execute_result",
          "data": {
            "application/vnd.google.colaboratory.intrinsic+json": {
              "type": "string"
            },
            "text/plain": [
              "'Este é um comentário multilinhas\\nlinha 1\\nlinha 2\\nnão vai aparecer no resultado '"
            ]
          },
          "metadata": {
            "tags": []
          },
          "execution_count": 6
        }
      ]
    },
    {
      "cell_type": "code",
      "metadata": {
        "id": "5C0KYGFHeUs8",
        "outputId": "cbaf5b4e-b399-46cc-9a2c-1bb7b1bdfce8",
        "colab": {
          "base_uri": "https://localhost:8080/",
          "height": 51
        }
      },
      "source": [
        "# Exemple 4 - Biespiel 4 \n",
        "# Utilizando a concatenação\n",
        "# lembrar que para concatenar strings é preciso que seja apenas tipos strings. Caso use string e int resultará em um erro.\n",
        "print('2'+'2')\n",
        "print('one' + '2')"
      ],
      "execution_count": 10,
      "outputs": [
        {
          "output_type": "stream",
          "text": [
            "22\n",
            "one2\n"
          ],
          "name": "stdout"
        }
      ]
    },
    {
      "cell_type": "code",
      "metadata": {
        "id": "dVSs22vHfveJ",
        "outputId": "54632a7c-2bba-4b62-9413-7aec12fa2c2c",
        "colab": {
          "base_uri": "https://localhost:8080/",
          "height": 85
        }
      },
      "source": [
        "# Exemple 5 - Biespiel 5\n",
        "# multiplicar string por inteiros\n",
        "print('-=' * 10)\n",
        "print('Esssa é uma string multiplicada por inteiros')\n",
        "print('A'*10)\n",
        "print('-=' * 10)"
      ],
      "execution_count": 12,
      "outputs": [
        {
          "output_type": "stream",
          "text": [
            "-=-=-=-=-=-=-=-=-=-=\n",
            "Esssa é uma string multiplicada por inteiros\n",
            "AAAAAAAAAA\n",
            "-=-=-=-=-=-=-=-=-=-=\n"
          ],
          "name": "stdout"
        }
      ]
    },
    {
      "cell_type": "code",
      "metadata": {
        "id": "quQ9XgMnhN3l",
        "outputId": "273b03a5-69c4-4358-d85e-e4082f0cab9a",
        "colab": {
          "base_uri": "https://localhost:8080/",
          "height": 34
        }
      },
      "source": [
        "# Exemple 6 - Biespiel 6\n",
        "# Utilizando variável\n",
        "name = 'Mein name ist Camilla'\n",
        "print(name)"
      ],
      "execution_count": 13,
      "outputs": [
        {
          "output_type": "stream",
          "text": [
            "Mein name ist Camilla\n"
          ],
          "name": "stdout"
        }
      ]
    },
    {
      "cell_type": "code",
      "metadata": {
        "id": "eBpasUGoieqm",
        "outputId": "44b7c121-da0a-4b3c-ed78-ca525c8b1a03",
        "colab": {
          "base_uri": "https://localhost:8080/",
          "height": 34
        }
      },
      "source": [
        "# Exemple 7 - Biespiel 7\n",
        "# regras para nomeação de variáveis\n",
        "mein_name_1 = 'Camilla'\n",
        "print(mein_name_1)"
      ],
      "execution_count": 14,
      "outputs": [
        {
          "output_type": "stream",
          "text": [
            "Camilla\n"
          ],
          "name": "stdout"
        }
      ]
    },
    {
      "cell_type": "code",
      "metadata": {
        "id": "p-swljwNjh3j",
        "outputId": "5851b738-7d0a-4fa2-b970-b1f2f2ea0f07",
        "colab": {
          "base_uri": "https://localhost:8080/",
          "height": 34
        }
      },
      "source": [
        "# Exemple 8 - Biespiel 8\n",
        "# deletando uma variável\n",
        "# aparecerá um erro mostrando que a variável não está definida... pq ela foi deletada\n",
        "mein_name_1 = 'Camilla'\n",
        "#deletando\n",
        "del mein_name_1\n",
        "#definindo novamente com outro valor\n",
        "mein_name_1 = 'Camilla Barros'\n",
        "print(mein_name_1)"
      ],
      "execution_count": 16,
      "outputs": [
        {
          "output_type": "stream",
          "text": [
            "Camilla Barros\n"
          ],
          "name": "stdout"
        }
      ]
    },
    {
      "cell_type": "code",
      "metadata": {
        "id": "nDHA0QWFlRVX",
        "outputId": "9d40e9a9-0983-4ba1-947d-a6bc6160b2c8",
        "colab": {
          "base_uri": "https://localhost:8080/",
          "height": 51
        }
      },
      "source": [
        "# Exemple 9 - Biespiel 9\n",
        "# usando a função input()\n",
        "mein_name = input('What is your name: ')\n",
        "print('Your name: {}'.format(mein_name))"
      ],
      "execution_count": 22,
      "outputs": [
        {
          "output_type": "stream",
          "text": [
            "What is your name: Camilla Barros\n",
            "Your name: Camilla Barros\n"
          ],
          "name": "stdout"
        }
      ]
    },
    {
      "cell_type": "code",
      "metadata": {
        "id": "tO_q_oidmnHT",
        "outputId": "9af907c8-8040-4d56-dd3d-9c02d27684ae",
        "colab": {
          "base_uri": "https://localhost:8080/",
          "height": 51
        }
      },
      "source": [
        "# Exemple 10 - Biespiel 10\n",
        "# especificando um tipo primitivo com input()\n",
        "age_user = int(input('How old are you? '))\n",
        "print('{} you\\'re {} years old'.format(mein_name, age_user))"
      ],
      "execution_count": 23,
      "outputs": [
        {
          "output_type": "stream",
          "text": [
            "How old are you? 26\n",
            "Camilla Barros you're 26 years old\n"
          ],
          "name": "stdout"
        }
      ]
    },
    {
      "cell_type": "code",
      "metadata": {
        "id": "Tm6sQLGHoo2h",
        "outputId": "169a97c4-7bc6-4b0a-dd44-8f5cc44fc05d",
        "colab": {
          "base_uri": "https://localhost:8080/",
          "height": 34
        }
      },
      "source": [
        "# exemple 11 - biespiel 10\n",
        "# usando os operadores in-place\n",
        "x = 3\n",
        "x += 2\n",
        "print(x)"
      ],
      "execution_count": 25,
      "outputs": [
        {
          "output_type": "stream",
          "text": [
            "5\n"
          ],
          "name": "stdout"
        }
      ]
    }
  ]
}