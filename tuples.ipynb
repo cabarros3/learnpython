{
  "nbformat": 4,
  "nbformat_minor": 0,
  "metadata": {
    "colab": {
      "name": "tuples.ipynb",
      "provenance": [],
      "authorship_tag": "ABX9TyPAVMfCn9s6q/K7x4Y1Dw5W",
      "include_colab_link": true
    },
    "kernelspec": {
      "name": "python3",
      "display_name": "Python 3"
    }
  },
  "cells": [
    {
      "cell_type": "markdown",
      "metadata": {
        "id": "view-in-github",
        "colab_type": "text"
      },
      "source": [
        "<a href=\"https://colab.research.google.com/github/cabarros3/learnpython/blob/main/tuples.ipynb\" target=\"_parent\"><img src=\"https://colab.research.google.com/assets/colab-badge.svg\" alt=\"Open In Colab\"/></a>"
      ]
    },
    {
      "cell_type": "code",
      "metadata": {
        "id": "jN6BB58baS7f"
      },
      "source": [
        "import pandas"
      ],
      "execution_count": null,
      "outputs": []
    },
    {
      "cell_type": "code",
      "metadata": {
        "id": "qNRJG_-cOI9I",
        "colab": {
          "base_uri": "https://localhost:8080/"
        },
        "outputId": "70ae9b60-18a6-4592-c2a9-4fdf04c8c840"
      },
      "source": [
        "lanche = ('Hamburguer', 'Suco', 'Pizza', 'Pudim')\n",
        "print(type(lanche))"
      ],
      "execution_count": null,
      "outputs": [
        {
          "output_type": "stream",
          "text": [
            "<class 'tuple'>\n"
          ],
          "name": "stdout"
        }
      ]
    },
    {
      "cell_type": "code",
      "metadata": {
        "id": "6EhHtheuOgKI",
        "colab": {
          "base_uri": "https://localhost:8080/",
          "height": 35
        },
        "outputId": "ec5f352b-eb7f-4daa-a2f1-06eb1b424d36"
      },
      "source": [
        "lanche[-1]"
      ],
      "execution_count": null,
      "outputs": [
        {
          "output_type": "execute_result",
          "data": {
            "application/vnd.google.colaboratory.intrinsic+json": {
              "type": "string"
            },
            "text/plain": [
              "'Pudim'"
            ]
          },
          "metadata": {
            "tags": []
          },
          "execution_count": 4
        }
      ]
    },
    {
      "cell_type": "code",
      "metadata": {
        "id": "1g4lVPQBPp1H",
        "colab": {
          "base_uri": "https://localhost:8080/"
        },
        "outputId": "50fd3974-2403-48d1-9875-29883d302dab"
      },
      "source": [
        "# jeito 1 de acessar os dados da tupla\n",
        "for comida in lanche:\n",
        "  print(f'Eu vou comer {comida}')\n",
        "print('Comi pra caramba!')"
      ],
      "execution_count": null,
      "outputs": [
        {
          "output_type": "stream",
          "text": [
            "Eu vou comer Hamburguer\n",
            "Eu vou comer Suco\n",
            "Eu vou comer Pizza\n",
            "Eu vou comer Pudim\n",
            "Comi pra caramba!\n"
          ],
          "name": "stdout"
        }
      ]
    },
    {
      "cell_type": "code",
      "metadata": {
        "id": "d7rEsKkHRDB2",
        "colab": {
          "base_uri": "https://localhost:8080/"
        },
        "outputId": "5956ef87-48ac-47a3-f80a-aae4f3b725c0"
      },
      "source": [
        "# jeito 2 de acessar os dados da tupla\n",
        "for cont in range(0, len(lanche)):\n",
        "  print(f'Eu vou comer {lanche[cont]} na posição {cont}')"
      ],
      "execution_count": null,
      "outputs": [
        {
          "output_type": "stream",
          "text": [
            "Eu vou comer Hamburguer na posição 0\n",
            "Eu vou comer Suco na posição 1\n",
            "Eu vou comer Pizza na posição 2\n",
            "Eu vou comer Pudim na posição 3\n"
          ],
          "name": "stdout"
        }
      ]
    },
    {
      "cell_type": "code",
      "metadata": {
        "id": "RO-NrbEYRWtL",
        "colab": {
          "base_uri": "https://localhost:8080/"
        },
        "outputId": "9d13f536-5d26-44d8-8200-687669646887"
      },
      "source": [
        "# jeito 3 de acessar os dados da tupla\n",
        "for pos, comida in enumerate(lanche):\n",
        "  print(f'Eu vou comer {comida}. Posição {pos}')"
      ],
      "execution_count": null,
      "outputs": [
        {
          "output_type": "stream",
          "text": [
            "Eu vou comer Hamburguer. Posição 0\n",
            "Eu vou comer Suco. Posição 1\n",
            "Eu vou comer Pizza. Posição 2\n",
            "Eu vou comer Pudim. Posição 3\n"
          ],
          "name": "stdout"
        }
      ]
    },
    {
      "cell_type": "code",
      "metadata": {
        "id": "9JCFkeVtSAzA",
        "colab": {
          "base_uri": "https://localhost:8080/"
        },
        "outputId": "7fa1d4e8-0d8e-47e0-fbe3-19ff7e511fad"
      },
      "source": [
        "# usando o sorted\n",
        "print(sorted(lanche))"
      ],
      "execution_count": null,
      "outputs": [
        {
          "output_type": "stream",
          "text": [
            "['Hamburguer', 'Pizza', 'Pudim', 'Suco']\n"
          ],
          "name": "stdout"
        }
      ]
    },
    {
      "cell_type": "code",
      "metadata": {
        "id": "UFL_1Zl-SjWX",
        "colab": {
          "base_uri": "https://localhost:8080/"
        },
        "outputId": "6a6af8cd-6db4-48c3-8f18-9ca5b9735d45"
      },
      "source": [
        "a = (2,5,4)\n",
        "b = (5,8,1,2)\n",
        "c = b + a\n",
        "print(c)\n",
        "print(c.index(2))"
      ],
      "execution_count": null,
      "outputs": [
        {
          "output_type": "stream",
          "text": [
            "(5, 8, 1, 2, 2, 5, 4)\n",
            "3\n"
          ],
          "name": "stdout"
        }
      ]
    },
    {
      "cell_type": "code",
      "metadata": {
        "id": "bne3n2ltTkGo",
        "colab": {
          "base_uri": "https://localhost:8080/",
          "height": 197
        },
        "outputId": "6ec4eb8a-f330-4d83-f7e8-c5d1193fac8c"
      },
      "source": [
        "# podemos ter dados de tipos diferentes nas tuplas\n",
        "pessoa = ('Camilla', 26, 'F', 80.0)\n",
        "del(pessoa) # apagar a variável da memória\n",
        "print(pessoa)"
      ],
      "execution_count": null,
      "outputs": [
        {
          "output_type": "error",
          "ename": "NameError",
          "evalue": "ignored",
          "traceback": [
            "\u001b[0;31m---------------------------------------------------------------------------\u001b[0m",
            "\u001b[0;31mNameError\u001b[0m                                 Traceback (most recent call last)",
            "\u001b[0;32m<ipython-input-19-994728f5a8f1>\u001b[0m in \u001b[0;36m<module>\u001b[0;34m()\u001b[0m\n\u001b[1;32m      2\u001b[0m \u001b[0mpessoa\u001b[0m \u001b[0;34m=\u001b[0m \u001b[0;34m(\u001b[0m\u001b[0;34m'Camilla'\u001b[0m\u001b[0;34m,\u001b[0m \u001b[0;36m26\u001b[0m\u001b[0;34m,\u001b[0m \u001b[0;34m'F'\u001b[0m\u001b[0;34m,\u001b[0m \u001b[0;36m80.0\u001b[0m\u001b[0;34m)\u001b[0m\u001b[0;34m\u001b[0m\u001b[0;34m\u001b[0m\u001b[0m\n\u001b[1;32m      3\u001b[0m \u001b[0;32mdel\u001b[0m\u001b[0;34m(\u001b[0m\u001b[0mpessoa\u001b[0m\u001b[0;34m)\u001b[0m\u001b[0;34m\u001b[0m\u001b[0;34m\u001b[0m\u001b[0m\n\u001b[0;32m----> 4\u001b[0;31m \u001b[0mprint\u001b[0m\u001b[0;34m(\u001b[0m\u001b[0mpessoa\u001b[0m\u001b[0;34m)\u001b[0m\u001b[0;34m\u001b[0m\u001b[0;34m\u001b[0m\u001b[0m\n\u001b[0m",
            "\u001b[0;31mNameError\u001b[0m: name 'pessoa' is not defined"
          ]
        }
      ]
    },
    {
      "cell_type": "code",
      "metadata": {
        "id": "vj4N7fIwasSI",
        "colab": {
          "base_uri": "https://localhost:8080/"
        },
        "outputId": "fb5c9768-6b20-46ea-8296-0b324829046b"
      },
      "source": [
        "# Exercício 72\n",
        "# números por extenso\n",
        "\n",
        "números = ('Zero','Um', 'Dois', 'Três', 'Quatro', 'Cinco', 'Seis', 'Sete', 'Oito', 'Nove', 'Dez', 'Onze', 'Doze', 'Treze', 'Quatorze', 'Quinze', 'Dezesseis', 'Dezessete', 'Dezoito', 'Dezenove', 'Vinte')\n",
        "\n",
        "while True:\n",
        "  user = int(input('Digite um número de 0 a 20: '))\n",
        "  if 0 <= user <=20:\n",
        "    break\n",
        "  print('Tente novamente.', end='')\n",
        "print(f'Você digitou o número {números[user]}')\n"
      ],
      "execution_count": null,
      "outputs": [
        {
          "output_type": "stream",
          "text": [
            "Digite um número de 0 a 20: 88\n",
            "Tente novamente.Digite um número de 0 a 20: 20\n",
            "Você digitou o número Vinte\n"
          ],
          "name": "stdout"
        }
      ]
    },
    {
      "cell_type": "code",
      "metadata": {
        "id": "VNNNWKyfVHW9",
        "colab": {
          "base_uri": "https://localhost:8080/"
        },
        "outputId": "9db5ed4d-ea39-46c7-d05a-8a86cde091b5"
      },
      "source": [
        "# Exercício 73\n",
        "# 20 primeiros times do brasielirão. 5 primeiros, 4 últimos, ordem alfabética e a posição de um time específico\n",
        "\n",
        "#criando a tupla\n",
        "times = ('Atletico-MG', 'Internacional', 'São Paulo', 'Flamengo', 'Palmeiras', 'Santos', 'Grémio', 'Fuminense', 'Bahia', 'Sport Recife', 'Corinthians', 'Fortaleza', 'Ceará SC', 'Atletico-GO', 'Bragantino', 'Vasco da Gama', 'Atletico-PR', 'Coritiba', 'Botafogo', 'Goiás')\n",
        "\n",
        "#visualizações\n",
        "\n",
        "# os 5 primeiros\n",
        "#for pos, nomes in enumerate (times[0:5]):\n",
        "  #print(f'{pos}ª {nomes}')\n",
        "\n",
        "# os 4 últimos\n",
        "'''\n",
        "for pos, nomes in enumerate(times[-4:]):\n",
        "  print(f'{pos}ª {nomes}')\n",
        "'''\n",
        "\n",
        "# ordem alfabética\n",
        "#print(sorted(times))\n",
        "\n",
        "# posição de time específico\n",
        "for pos, nomes in enumerate(times):\n",
        "  if nomes == 'Sport Recife':\n",
        "    print(f'{pos}ª {nomes}')\n",
        "\n"
      ],
      "execution_count": null,
      "outputs": [
        {
          "output_type": "stream",
          "text": [
            "9ª Sport Recife\n"
          ],
          "name": "stdout"
        }
      ]
    }
  ]
}