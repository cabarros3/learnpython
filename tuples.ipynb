{
  "nbformat": 4,
  "nbformat_minor": 0,
  "metadata": {
    "colab": {
      "name": "tuples.ipynb",
      "provenance": [],
      "authorship_tag": "ABX9TyOKuUqz8OFLgMiF7TeDgG+f",
      "include_colab_link": true
    },
    "kernelspec": {
      "name": "python3",
      "display_name": "Python 3"
    }
  },
  "cells": [
    {
      "cell_type": "markdown",
      "metadata": {
        "id": "view-in-github",
        "colab_type": "text"
      },
      "source": [
        "<a href=\"https://colab.research.google.com/github/cabarros3/learnpython/blob/main/tuples.ipynb\" target=\"_parent\"><img src=\"https://colab.research.google.com/assets/colab-badge.svg\" alt=\"Open In Colab\"/></a>"
      ]
    },
    {
      "cell_type": "code",
      "metadata": {
        "id": "jN6BB58baS7f"
      },
      "source": [
        "from random import randint"
      ],
      "execution_count": 8,
      "outputs": []
    },
    {
      "cell_type": "code",
      "metadata": {
        "id": "qNRJG_-cOI9I",
        "colab": {
          "base_uri": "https://localhost:8080/"
        },
        "outputId": "70ae9b60-18a6-4592-c2a9-4fdf04c8c840"
      },
      "source": [
        "lanche = ('Hamburguer', 'Suco', 'Pizza', 'Pudim')\n",
        "print(type(lanche))"
      ],
      "execution_count": null,
      "outputs": [
        {
          "output_type": "stream",
          "text": [
            "<class 'tuple'>\n"
          ],
          "name": "stdout"
        }
      ]
    },
    {
      "cell_type": "code",
      "metadata": {
        "id": "6EhHtheuOgKI",
        "colab": {
          "base_uri": "https://localhost:8080/",
          "height": 35
        },
        "outputId": "ec5f352b-eb7f-4daa-a2f1-06eb1b424d36"
      },
      "source": [
        "lanche[-1]"
      ],
      "execution_count": null,
      "outputs": [
        {
          "output_type": "execute_result",
          "data": {
            "application/vnd.google.colaboratory.intrinsic+json": {
              "type": "string"
            },
            "text/plain": [
              "'Pudim'"
            ]
          },
          "metadata": {
            "tags": []
          },
          "execution_count": 4
        }
      ]
    },
    {
      "cell_type": "code",
      "metadata": {
        "id": "1g4lVPQBPp1H",
        "colab": {
          "base_uri": "https://localhost:8080/"
        },
        "outputId": "50fd3974-2403-48d1-9875-29883d302dab"
      },
      "source": [
        "# jeito 1 de acessar os dados da tupla\n",
        "for comida in lanche:\n",
        "  print(f'Eu vou comer {comida}')\n",
        "print('Comi pra caramba!')"
      ],
      "execution_count": null,
      "outputs": [
        {
          "output_type": "stream",
          "text": [
            "Eu vou comer Hamburguer\n",
            "Eu vou comer Suco\n",
            "Eu vou comer Pizza\n",
            "Eu vou comer Pudim\n",
            "Comi pra caramba!\n"
          ],
          "name": "stdout"
        }
      ]
    },
    {
      "cell_type": "code",
      "metadata": {
        "id": "d7rEsKkHRDB2",
        "colab": {
          "base_uri": "https://localhost:8080/"
        },
        "outputId": "5956ef87-48ac-47a3-f80a-aae4f3b725c0"
      },
      "source": [
        "# jeito 2 de acessar os dados da tupla\n",
        "for cont in range(0, len(lanche)):\n",
        "  print(f'Eu vou comer {lanche[cont]} na posição {cont}')"
      ],
      "execution_count": null,
      "outputs": [
        {
          "output_type": "stream",
          "text": [
            "Eu vou comer Hamburguer na posição 0\n",
            "Eu vou comer Suco na posição 1\n",
            "Eu vou comer Pizza na posição 2\n",
            "Eu vou comer Pudim na posição 3\n"
          ],
          "name": "stdout"
        }
      ]
    },
    {
      "cell_type": "code",
      "metadata": {
        "id": "RO-NrbEYRWtL",
        "colab": {
          "base_uri": "https://localhost:8080/"
        },
        "outputId": "9d13f536-5d26-44d8-8200-687669646887"
      },
      "source": [
        "# jeito 3 de acessar os dados da tupla\n",
        "for pos, comida in enumerate(lanche):\n",
        "  print(f'Eu vou comer {comida}. Posição {pos}')"
      ],
      "execution_count": null,
      "outputs": [
        {
          "output_type": "stream",
          "text": [
            "Eu vou comer Hamburguer. Posição 0\n",
            "Eu vou comer Suco. Posição 1\n",
            "Eu vou comer Pizza. Posição 2\n",
            "Eu vou comer Pudim. Posição 3\n"
          ],
          "name": "stdout"
        }
      ]
    },
    {
      "cell_type": "code",
      "metadata": {
        "id": "9JCFkeVtSAzA",
        "colab": {
          "base_uri": "https://localhost:8080/"
        },
        "outputId": "7fa1d4e8-0d8e-47e0-fbe3-19ff7e511fad"
      },
      "source": [
        "# usando o sorted\n",
        "print(sorted(lanche))"
      ],
      "execution_count": null,
      "outputs": [
        {
          "output_type": "stream",
          "text": [
            "['Hamburguer', 'Pizza', 'Pudim', 'Suco']\n"
          ],
          "name": "stdout"
        }
      ]
    },
    {
      "cell_type": "code",
      "metadata": {
        "id": "UFL_1Zl-SjWX",
        "colab": {
          "base_uri": "https://localhost:8080/"
        },
        "outputId": "6a6af8cd-6db4-48c3-8f18-9ca5b9735d45"
      },
      "source": [
        "a = (2,5,4)\n",
        "b = (5,8,1,2)\n",
        "c = b + a\n",
        "print(c)\n",
        "print(c.index(2))"
      ],
      "execution_count": null,
      "outputs": [
        {
          "output_type": "stream",
          "text": [
            "(5, 8, 1, 2, 2, 5, 4)\n",
            "3\n"
          ],
          "name": "stdout"
        }
      ]
    },
    {
      "cell_type": "code",
      "metadata": {
        "id": "bne3n2ltTkGo",
        "colab": {
          "base_uri": "https://localhost:8080/",
          "height": 197
        },
        "outputId": "6ec4eb8a-f330-4d83-f7e8-c5d1193fac8c"
      },
      "source": [
        "# podemos ter dados de tipos diferentes nas tuplas\n",
        "pessoa = ('Camilla', 26, 'F', 80.0)\n",
        "del(pessoa) # apagar a variável da memória\n",
        "print(pessoa)"
      ],
      "execution_count": null,
      "outputs": [
        {
          "output_type": "error",
          "ename": "NameError",
          "evalue": "ignored",
          "traceback": [
            "\u001b[0;31m---------------------------------------------------------------------------\u001b[0m",
            "\u001b[0;31mNameError\u001b[0m                                 Traceback (most recent call last)",
            "\u001b[0;32m<ipython-input-19-994728f5a8f1>\u001b[0m in \u001b[0;36m<module>\u001b[0;34m()\u001b[0m\n\u001b[1;32m      2\u001b[0m \u001b[0mpessoa\u001b[0m \u001b[0;34m=\u001b[0m \u001b[0;34m(\u001b[0m\u001b[0;34m'Camilla'\u001b[0m\u001b[0;34m,\u001b[0m \u001b[0;36m26\u001b[0m\u001b[0;34m,\u001b[0m \u001b[0;34m'F'\u001b[0m\u001b[0;34m,\u001b[0m \u001b[0;36m80.0\u001b[0m\u001b[0;34m)\u001b[0m\u001b[0;34m\u001b[0m\u001b[0;34m\u001b[0m\u001b[0m\n\u001b[1;32m      3\u001b[0m \u001b[0;32mdel\u001b[0m\u001b[0;34m(\u001b[0m\u001b[0mpessoa\u001b[0m\u001b[0;34m)\u001b[0m\u001b[0;34m\u001b[0m\u001b[0;34m\u001b[0m\u001b[0m\n\u001b[0;32m----> 4\u001b[0;31m \u001b[0mprint\u001b[0m\u001b[0;34m(\u001b[0m\u001b[0mpessoa\u001b[0m\u001b[0;34m)\u001b[0m\u001b[0;34m\u001b[0m\u001b[0;34m\u001b[0m\u001b[0m\n\u001b[0m",
            "\u001b[0;31mNameError\u001b[0m: name 'pessoa' is not defined"
          ]
        }
      ]
    },
    {
      "cell_type": "code",
      "metadata": {
        "id": "vj4N7fIwasSI",
        "colab": {
          "base_uri": "https://localhost:8080/"
        },
        "outputId": "fb5c9768-6b20-46ea-8296-0b324829046b"
      },
      "source": [
        "# Exercício 72\n",
        "# números por extenso\n",
        "\n",
        "números = ('Zero','Um', 'Dois', 'Três', 'Quatro', 'Cinco', 'Seis', 'Sete', 'Oito', 'Nove', 'Dez', 'Onze', 'Doze', 'Treze', 'Quatorze', 'Quinze', 'Dezesseis', 'Dezessete', 'Dezoito', 'Dezenove', 'Vinte')\n",
        "\n",
        "while True:\n",
        "  user = int(input('Digite um número de 0 a 20: '))\n",
        "  if 0 <= user <=20:\n",
        "    break\n",
        "  print('Tente novamente.', end='')\n",
        "print(f'Você digitou o número {números[user]}')\n"
      ],
      "execution_count": null,
      "outputs": [
        {
          "output_type": "stream",
          "text": [
            "Digite um número de 0 a 20: 88\n",
            "Tente novamente.Digite um número de 0 a 20: 20\n",
            "Você digitou o número Vinte\n"
          ],
          "name": "stdout"
        }
      ]
    },
    {
      "cell_type": "code",
      "metadata": {
        "id": "VNNNWKyfVHW9",
        "colab": {
          "base_uri": "https://localhost:8080/"
        },
        "outputId": "b4895b57-ccbd-42e6-c645-81daa5f54c0e"
      },
      "source": [
        "# Exercício 73\n",
        "# 20 primeiros times do brasielirão. 5 primeiros, 4 últimos, ordem alfabética e a posição de um time específico\n",
        "\n",
        "#criando a tupla\n",
        "times = ('Atletico-MG', 'Internacional', 'São Paulo', 'Flamengo', 'Palmeiras', 'Santos', 'Grémio', 'Fuminense', 'Bahia', 'Sport Recife', 'Corinthians', 'Fortaleza', 'Ceará SC', 'Atletico-GO', 'Bragantino', 'Vasco da Gama', 'Atletico-PR', 'Coritiba', 'Botafogo', 'Goiás')\n",
        "\n",
        "#visualizações\n",
        "\n",
        "print('.-.' * 15)\n",
        "print(f'Os 5 primeiros times do brasileirão são: {times[:5]}')\n",
        "print('.-.' * 15)\n",
        "print(f'Os times que estão na zona de rebaixamento do brasileirão são: {times[-4:]}')\n",
        "print('.-.' * 15)\n",
        "print(f'A lista de times em ordem alfabética é : {sorted(times)}')\n",
        "print('.-.' * 15)\n",
        "print(f'O Sport Recife está na {times.index(\"Sport Recife\")}ª posição ')"
      ],
      "execution_count": 7,
      "outputs": [
        {
          "output_type": "stream",
          "text": [
            ".-..-..-..-..-..-..-..-..-..-..-..-..-..-..-.\n",
            "Os 5 primeiros times do brasileirão são: ('Atletico-MG', 'Internacional', 'São Paulo', 'Flamengo', 'Palmeiras')\n",
            ".-..-..-..-..-..-..-..-..-..-..-..-..-..-..-.\n",
            "Os times que estão na zona de rebaixamento do brasileirão são: ('Atletico-PR', 'Coritiba', 'Botafogo', 'Goiás')\n",
            ".-..-..-..-..-..-..-..-..-..-..-..-..-..-..-.\n",
            "A lista de times em ordem alfabética é : ['Atletico-GO', 'Atletico-MG', 'Atletico-PR', 'Bahia', 'Botafogo', 'Bragantino', 'Ceará SC', 'Corinthians', 'Coritiba', 'Flamengo', 'Fortaleza', 'Fuminense', 'Goiás', 'Grémio', 'Internacional', 'Palmeiras', 'Santos', 'Sport Recife', 'São Paulo', 'Vasco da Gama']\n",
            ".-..-..-..-..-..-..-..-..-..-..-..-..-..-..-.\n",
            "O Sport Recife está na 9ª posição \n"
          ],
          "name": "stdout"
        }
      ]
    },
    {
      "cell_type": "code",
      "metadata": {
        "colab": {
          "base_uri": "https://localhost:8080/"
        },
        "id": "6kw9jhv2P57F",
        "outputId": "ab25cbe4-5d7f-43d0-ed37-4fc0e5dd35d8"
      },
      "source": [
        "#Exercício 74\n",
        "# sorteando valores\n",
        "\n",
        "\n",
        "aleatorio = (randint(1,5), randint(1,5), randint(1,5), randint(1,5), randint(1,5))\n",
        "print('Os valores sorteados foram: ')\n",
        "for n in aleatorio:\n",
        "  print(f'{n} ', end='')\n",
        "\n",
        "print(f'\\nO maior valor sorteado foi {max(aleatorio)}')\n",
        "print(f'O menor valor sortado foi {min(aleatorio)}')"
      ],
      "execution_count": 17,
      "outputs": [
        {
          "output_type": "stream",
          "text": [
            "Os valores sorteados foram: \n",
            "5 2 3 4 2 \n",
            "O maior valor sorteado foi 5\n",
            "O menor valor sortado foi 2\n"
          ],
          "name": "stdout"
        }
      ]
    },
    {
      "cell_type": "code",
      "metadata": {
        "colab": {
          "base_uri": "https://localhost:8080/"
        },
        "id": "3LtjlvznZaE3",
        "outputId": "08ee57c2-2fe5-483a-fc79-792c932b17ec"
      },
      "source": [
        "# Exercício 75\n",
        "#analizando dados\n",
        "\n",
        "x = (int(input('Digite um número: ')),\n",
        "    int(input('Digite outro número: ')), \n",
        "    int(input('Digite mais um número: ')),\n",
        "    int(input('Digite o último número: ')))\n",
        "\n",
        "print(f'Você digitou os valores:  {x}')\n",
        "print(f'O valor 9 apareceu {x.count(9)} vezes')\n",
        "if 3 in x:\n",
        "  print(f'O valor 3 apareceu pela primeira vez {x.index(3)+1}ª posição')\n",
        "else:\n",
        "  print('O valor 3 não foi digitado em nenhuma posição.')\n",
        "print('Os valores pares digitados são ', end='')\n",
        "for n in x:\n",
        "  if n % 2 == 0:\n",
        "    print(n, end=' ')"
      ],
      "execution_count": 35,
      "outputs": [
        {
          "output_type": "stream",
          "text": [
            "Digite um número: 8\n",
            "Digite outro número: 7\n",
            "Digite mais um número: 6\n",
            "Digite o último número: 4\n",
            "Você digitou os valores:  (8, 7, 6, 4)\n",
            "O valor 9 apareceu 0 vezes\n",
            "O valor 3 não foi digitado em nenhuma posição.\n",
            "Os valores pares digitados são 8 6 4 "
          ],
          "name": "stdout"
        }
      ]
    },
    {
      "cell_type": "code",
      "metadata": {
        "colab": {
          "base_uri": "https://localhost:8080/"
        },
        "id": "kR904zhPeCLx",
        "outputId": "de25c1b0-4a93-4ede-ed17-1b459ac62359"
      },
      "source": [
        "# Exercício 76\n",
        "# lista de preços com tuplas\n",
        "\n",
        "listagem = ('Lápis', 1.75, 'Borracha', 1.50, 'Caneta', 1.50, 'Resma de Papel', 20.5, 'Corretivo', 5.20, 'Post-it', 17.50)\n",
        "\n",
        "print('.-.' * 15)\n",
        "print(f'{\"LISTA DE PREÇOS\":^45}') #para alinhar no centro\n",
        "print('.-.' * 15)\n",
        "for pos in range(0, len(listagem)):\n",
        "  if pos % 2 == 0:\n",
        "    print(f'{listagem[pos]:.<30}', end='') #para alinhamento na esquerda\n",
        "  else:\n",
        "    print(f'R${listagem[pos]:>7.2f}') #para alinhamento na direita\n",
        "\n",
        "print('.-.' * 15)\n"
      ],
      "execution_count": 66,
      "outputs": [
        {
          "output_type": "stream",
          "text": [
            ".-..-..-..-..-..-..-..-..-..-..-..-..-..-..-.\n",
            "               LISTA DE PREÇOS               \n",
            ".-..-..-..-..-..-..-..-..-..-..-..-..-..-..-.\n",
            "Lápis.........................R$   1.75\n",
            "Borracha......................R$   1.50\n",
            "Caneta........................R$   1.50\n",
            "Resma de Papel................R$  20.50\n",
            "Corretivo.....................R$   5.20\n",
            "Post-it.......................R$  17.50\n",
            ".-..-..-..-..-..-..-..-..-..-..-..-..-..-..-.\n"
          ],
          "name": "stdout"
        }
      ]
    }
  ]
}