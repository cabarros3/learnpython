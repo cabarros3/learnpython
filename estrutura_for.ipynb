{
  "nbformat": 4,
  "nbformat_minor": 0,
  "metadata": {
    "colab": {
      "name": "estrutura_for.ipynb",
      "provenance": [],
      "authorship_tag": "ABX9TyM4KY4Db8CTFe5XqbO9gB2c",
      "include_colab_link": true
    },
    "kernelspec": {
      "name": "python3",
      "display_name": "Python 3"
    }
  },
  "cells": [
    {
      "cell_type": "markdown",
      "metadata": {
        "id": "view-in-github",
        "colab_type": "text"
      },
      "source": [
        "<a href=\"https://colab.research.google.com/github/cabarros3/learnpython/blob/main/estrutura_for.ipynb\" target=\"_parent\"><img src=\"https://colab.research.google.com/assets/colab-badge.svg\" alt=\"Open In Colab\"/></a>"
      ]
    },
    {
      "cell_type": "markdown",
      "metadata": {
        "id": "qquesT8f6e-y"
      },
      "source": [
        "## Estudando a estrutura de repetição FOR\n",
        "\n",
        "Aqui também vou fazer os exercícios da aula 13 do curso em vídeo"
      ]
    },
    {
      "cell_type": "code",
      "metadata": {
        "id": "A8eNhgbr_xmB"
      },
      "source": [
        "from time import sleep"
      ],
      "execution_count": 11,
      "outputs": []
    },
    {
      "cell_type": "code",
      "metadata": {
        "id": "gFjCbkt66Npy",
        "outputId": "16c4e765-0db4-4d0f-faf0-e55e08c31331",
        "colab": {
          "base_uri": "https://localhost:8080/"
        }
      },
      "source": [
        "# o contador irá contar de 0 a 10\n",
        "for c in range(0,10):\n",
        "  print(c)\n",
        "print('fim.')"
      ],
      "execution_count": 1,
      "outputs": [
        {
          "output_type": "stream",
          "text": [
            "0\n",
            "1\n",
            "2\n",
            "3\n",
            "4\n",
            "5\n",
            "6\n",
            "7\n",
            "8\n",
            "9\n",
            "fim.\n"
          ],
          "name": "stdout"
        }
      ]
    },
    {
      "cell_type": "code",
      "metadata": {
        "id": "5iLzoq827pVB",
        "outputId": "005e23ed-e679-4452-d7f0-d3d0f0233e0e",
        "colab": {
          "base_uri": "https://localhost:8080/"
        }
      },
      "source": [
        "# o contador irá contar de 0 a num (número que receberá pelo input)\n",
        "num = int(input('Digite um número: '))\n",
        "for c in range(0, num):\n",
        "  print(c)\n",
        "print('fim.')"
      ],
      "execution_count": 4,
      "outputs": [
        {
          "output_type": "stream",
          "text": [
            "Digite um número: 10\n",
            "0\n",
            "1\n",
            "2\n",
            "3\n",
            "4\n",
            "5\n",
            "6\n",
            "7\n",
            "8\n",
            "9\n",
            "fim.\n"
          ],
          "name": "stdout"
        }
      ]
    },
    {
      "cell_type": "code",
      "metadata": {
        "id": "7ubeRrCT68pZ",
        "outputId": "546aa376-6239-47e4-dfe5-0d2c08453d8f",
        "colab": {
          "base_uri": "https://localhost:8080/"
        }
      },
      "source": [
        "# o contador irá contar de 0 a 10 de 2 em 2\n",
        "for c in range(0,10,2):\n",
        "  print(c)\n",
        "print('fim.')"
      ],
      "execution_count": 2,
      "outputs": [
        {
          "output_type": "stream",
          "text": [
            "0\n",
            "2\n",
            "4\n",
            "6\n",
            "8\n",
            "fim.\n"
          ],
          "name": "stdout"
        }
      ]
    },
    {
      "cell_type": "code",
      "metadata": {
        "id": "EK2SvBy48PZz",
        "outputId": "1482653d-3bb2-4e72-c2d7-5314a4e1ed23",
        "colab": {
          "base_uri": "https://localhost:8080/"
        }
      },
      "source": [
        "# o contador irá contar de i a f no passo p\n",
        "i = int(input('Digite o início: '))\n",
        "f = int(input('Digite o final: '))\n",
        "p = int(input('Digite o passo: '))\n",
        "for c in range (i, f, p):\n",
        "  print(c)\n",
        "print('fim.')"
      ],
      "execution_count": 5,
      "outputs": [
        {
          "output_type": "stream",
          "text": [
            "Digite o início: 2\n",
            "Digite o final: 20\n",
            "Digite o passo: 3\n",
            "2\n",
            "5\n",
            "8\n",
            "11\n",
            "14\n",
            "17\n",
            "fim.\n"
          ],
          "name": "stdout"
        }
      ]
    },
    {
      "cell_type": "code",
      "metadata": {
        "id": "opjCOKEw9nRH",
        "outputId": "bbd7cd37-d5f1-4fa0-dc2a-5dee1ccac836",
        "colab": {
          "base_uri": "https://localhost:8080/"
        }
      },
      "source": [
        "s = 0\n",
        "for c in range(0, 3):\n",
        "  n = int(input('Digite um número: '))\n",
        "  s += n\n",
        "print('A soma de S + N é {}'.format(s))"
      ],
      "execution_count": 10,
      "outputs": [
        {
          "output_type": "stream",
          "text": [
            "Digite um número: 3\n",
            "Digite um número: 8\n",
            "Digite um número: 3\n",
            "A soma de S + N é 14\n"
          ],
          "name": "stdout"
        }
      ]
    },
    {
      "cell_type": "code",
      "metadata": {
        "id": "HFIq3t80_8SU",
        "outputId": "11747702-765b-44c2-b2e9-e4424e9a2801",
        "colab": {
          "base_uri": "https://localhost:8080/"
        }
      },
      "source": [
        "# Exercício 46\n",
        "# contagem regressiva para estouro de fogod de 10 a 0. 1 segundo de pausa entre a contagem e o estouro\n",
        "for estouro in range(10, -1,-1):\n",
        "    print(estouro)\n",
        "    sleep(0.5)\n",
        "print('É o pipoco do ano novo')"
      ],
      "execution_count": 20,
      "outputs": [
        {
          "output_type": "stream",
          "text": [
            "10\n",
            "9\n",
            "8\n",
            "7\n",
            "6\n",
            "5\n",
            "4\n",
            "3\n",
            "2\n",
            "1\n",
            "0\n",
            "É o pipoco do ano novo\n"
          ],
          "name": "stdout"
        }
      ]
    },
    {
      "cell_type": "code",
      "metadata": {
        "id": "OE-gjW0RNxoQ",
        "outputId": "421ac4f3-ba29-4c58-e642-0088f54fa124",
        "colab": {
          "base_uri": "https://localhost:8080/"
        }
      },
      "source": [
        "# Exercício 47\n",
        "# contador de 2 em 2 de 1 até 50.\n",
        "for contador in range(0 , 51, 2):\n",
        "  print(contador)\n",
        "print('Final')"
      ],
      "execution_count": 30,
      "outputs": [
        {
          "output_type": "stream",
          "text": [
            "0\n",
            "2\n",
            "4\n",
            "6\n",
            "8\n",
            "10\n",
            "12\n",
            "14\n",
            "16\n",
            "18\n",
            "20\n",
            "22\n",
            "24\n",
            "26\n",
            "28\n",
            "30\n",
            "32\n",
            "34\n",
            "36\n",
            "38\n",
            "40\n",
            "42\n",
            "44\n",
            "46\n",
            "48\n",
            "50\n",
            "Final\n"
          ],
          "name": "stdout"
        }
      ]
    },
    {
      "cell_type": "code",
      "metadata": {
        "id": "IcxNMqQXQVyD",
        "outputId": "007fb931-ef89-4071-c310-01fb216cdb6c",
        "colab": {
          "base_uri": "https://localhost:8080/"
        }
      },
      "source": [
        "# Exercício 49\n",
        "# Tabuada\n",
        "n = int(input('Digite um número: '))\n",
        "m = n\n",
        "for tabuada in range(1,11):\n",
        "  m = tabuada * n\n",
        "  print('{} X {:2} = {:2}'.format(n, tabuada, m))\n",
        "print('Fim')"
      ],
      "execution_count": 48,
      "outputs": [
        {
          "output_type": "stream",
          "text": [
            "Digite um número: 9\n",
            "9 X  1 =  9\n",
            "9 X  2 = 18\n",
            "9 X  3 = 27\n",
            "9 X  4 = 36\n",
            "9 X  5 = 45\n",
            "9 X  6 = 54\n",
            "9 X  7 = 63\n",
            "9 X  8 = 72\n",
            "9 X  9 = 81\n",
            "9 X 10 = 90\n",
            "Fim\n"
          ],
          "name": "stdout"
        }
      ]
    },
    {
      "cell_type": "code",
      "metadata": {
        "id": "CpSXnhJRNxtB",
        "outputId": "5eea9e5c-71c5-419b-c490-20a8661c3048",
        "colab": {
          "base_uri": "https://localhost:8080/"
        }
      },
      "source": [
        "# Exercício 48\n",
        "# A soma dos números ímpares que são multiplos de 3\n",
        "soma = 0\n",
        "cont = 0\n",
        "for c in range (1, 500, 2):\n",
        "  if c % 3 == 0:\n",
        "    soma += c #acumulador\n",
        "    cont += 1\n",
        "print('A soma dos {} valores é {}'.format(cont, soma))"
      ],
      "execution_count": 55,
      "outputs": [
        {
          "output_type": "stream",
          "text": [
            "A soma dos 83 valores é 20667\n"
          ],
          "name": "stdout"
        }
      ]
    },
    {
      "cell_type": "code",
      "metadata": {
        "id": "BfKCUwwzUBfg",
        "outputId": "6d8bf354-71dc-4f48-9705-b041556746cf",
        "colab": {
          "base_uri": "https://localhost:8080/"
        }
      },
      "source": [
        "# Exercício 50\n",
        "# a soma dos número pares\n",
        "soma = 0\n",
        "cont = 0 \n",
        "for c in range(0, 50, 2):\n",
        "  if c % 2 == 0:\n",
        "    soma += c\n",
        "    cont += 1\n",
        "\n",
        "print('A soma dos {} valores é {}'.format(cont, soma))"
      ],
      "execution_count": 60,
      "outputs": [
        {
          "output_type": "stream",
          "text": [
            "A soma dos 25 valores é 600\n"
          ],
          "name": "stdout"
        }
      ]
    },
    {
      "cell_type": "code",
      "metadata": {
        "id": "A_lrIwQ3YeRL",
        "outputId": "cea74ebc-3fa0-482c-d242-11bb0153da81",
        "colab": {
          "base_uri": "https://localhost:8080/"
        }
      },
      "source": [
        "# Exercício 51\n",
        "# progressão aritmética\n",
        "inicio = int(input('Qual o início: '))\n",
        "razao = int(input('Qual a razão: '))\n",
        "decimo = inicio + (10 - 1) * razao\n",
        "\n",
        "for c in range(inicio, decimo, razao):\n",
        "  print('{}'.format(c), end=' --> ')\n",
        "print('Acabou')"
      ],
      "execution_count": 69,
      "outputs": [
        {
          "output_type": "stream",
          "text": [
            "Qual o início: 25\n",
            "Qual a razão: 5\n",
            "25 --> 30 --> 35 --> 40 --> 45 --> 50 --> 55 --> 60 --> 65 --> Acabou\n"
          ],
          "name": "stdout"
        }
      ]
    },
    {
      "cell_type": "code",
      "metadata": {
        "id": "V6Q7SyT4aGOJ"
      },
      "source": [
        ""
      ],
      "execution_count": null,
      "outputs": []
    }
  ]
}