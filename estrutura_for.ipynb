{
  "nbformat": 4,
  "nbformat_minor": 0,
  "metadata": {
    "colab": {
      "name": "estrutura_for.ipynb",
      "provenance": [],
      "authorship_tag": "ABX9TyO6yWt4CYaCAgHLJsUqvUSC",
      "include_colab_link": true
    },
    "kernelspec": {
      "name": "python3",
      "display_name": "Python 3"
    }
  },
  "cells": [
    {
      "cell_type": "markdown",
      "metadata": {
        "id": "view-in-github",
        "colab_type": "text"
      },
      "source": [
        "<a href=\"https://colab.research.google.com/github/cabarros3/learnpython/blob/main/estrutura_for.ipynb\" target=\"_parent\"><img src=\"https://colab.research.google.com/assets/colab-badge.svg\" alt=\"Open In Colab\"/></a>"
      ]
    },
    {
      "cell_type": "markdown",
      "metadata": {
        "id": "qquesT8f6e-y"
      },
      "source": [
        "## Estudando a estrutura de repetição FOR\n",
        "\n",
        "Aqui também vou fazer os exercícios da aula 13 do curso em vídeo"
      ]
    },
    {
      "cell_type": "code",
      "metadata": {
        "id": "gFjCbkt66Npy",
        "outputId": "16c4e765-0db4-4d0f-faf0-e55e08c31331",
        "colab": {
          "base_uri": "https://localhost:8080/"
        }
      },
      "source": [
        "# o contador irá contar de 0 a 10\n",
        "for c in range(0,10):\n",
        "  print(c)\n",
        "print('fim.')"
      ],
      "execution_count": 1,
      "outputs": [
        {
          "output_type": "stream",
          "text": [
            "0\n",
            "1\n",
            "2\n",
            "3\n",
            "4\n",
            "5\n",
            "6\n",
            "7\n",
            "8\n",
            "9\n",
            "fim.\n"
          ],
          "name": "stdout"
        }
      ]
    },
    {
      "cell_type": "code",
      "metadata": {
        "id": "5iLzoq827pVB",
        "outputId": "005e23ed-e679-4452-d7f0-d3d0f0233e0e",
        "colab": {
          "base_uri": "https://localhost:8080/"
        }
      },
      "source": [
        "# o contador irá contar de 0 a num (número que receberá pelo input)\n",
        "num = int(input('Digite um número: '))\n",
        "for c in range(0, num):\n",
        "  print(c)\n",
        "print('fim.')"
      ],
      "execution_count": 4,
      "outputs": [
        {
          "output_type": "stream",
          "text": [
            "Digite um número: 10\n",
            "0\n",
            "1\n",
            "2\n",
            "3\n",
            "4\n",
            "5\n",
            "6\n",
            "7\n",
            "8\n",
            "9\n",
            "fim.\n"
          ],
          "name": "stdout"
        }
      ]
    },
    {
      "cell_type": "code",
      "metadata": {
        "id": "7ubeRrCT68pZ",
        "outputId": "546aa376-6239-47e4-dfe5-0d2c08453d8f",
        "colab": {
          "base_uri": "https://localhost:8080/"
        }
      },
      "source": [
        "# o contador irá contar de 0 a 10 de 2 em 2\n",
        "for c in range(0,10,2):\n",
        "  print(c)\n",
        "print('fim.')"
      ],
      "execution_count": 2,
      "outputs": [
        {
          "output_type": "stream",
          "text": [
            "0\n",
            "2\n",
            "4\n",
            "6\n",
            "8\n",
            "fim.\n"
          ],
          "name": "stdout"
        }
      ]
    },
    {
      "cell_type": "code",
      "metadata": {
        "id": "EK2SvBy48PZz",
        "outputId": "1482653d-3bb2-4e72-c2d7-5314a4e1ed23",
        "colab": {
          "base_uri": "https://localhost:8080/"
        }
      },
      "source": [
        "# o contador irá contar de i a f no passo p\n",
        "i = int(input('Digite o início: '))\n",
        "f = int(input('Digite o final: '))\n",
        "p = int(input('Digite o passo: '))\n",
        "for c in range (i, f, p):\n",
        "  print(c)\n",
        "print('fim.')"
      ],
      "execution_count": 5,
      "outputs": [
        {
          "output_type": "stream",
          "text": [
            "Digite o início: 2\n",
            "Digite o final: 20\n",
            "Digite o passo: 3\n",
            "2\n",
            "5\n",
            "8\n",
            "11\n",
            "14\n",
            "17\n",
            "fim.\n"
          ],
          "name": "stdout"
        }
      ]
    },
    {
      "cell_type": "code",
      "metadata": {
        "id": "opjCOKEw9nRH",
        "outputId": "bbd7cd37-d5f1-4fa0-dc2a-5dee1ccac836",
        "colab": {
          "base_uri": "https://localhost:8080/"
        }
      },
      "source": [
        "s = 0\n",
        "for c in range(0, 3):\n",
        "  n = int(input('Digite um número: '))\n",
        "  s += n\n",
        "print('A soma de S + N é {}'.format(s))"
      ],
      "execution_count": 10,
      "outputs": [
        {
          "output_type": "stream",
          "text": [
            "Digite um número: 3\n",
            "Digite um número: 8\n",
            "Digite um número: 3\n",
            "A soma de S + N é 14\n"
          ],
          "name": "stdout"
        }
      ]
    }
  ]
}