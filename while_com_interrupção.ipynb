{
  "nbformat": 4,
  "nbformat_minor": 0,
  "metadata": {
    "colab": {
      "name": "while_com_interrupção.ipynb",
      "provenance": [],
      "collapsed_sections": [],
      "authorship_tag": "ABX9TyNj6oP7c2VqBM08CSOOmRPV",
      "include_colab_link": true
    },
    "kernelspec": {
      "name": "python3",
      "display_name": "Python 3"
    }
  },
  "cells": [
    {
      "cell_type": "markdown",
      "metadata": {
        "id": "view-in-github",
        "colab_type": "text"
      },
      "source": [
        "<a href=\"https://colab.research.google.com/github/cabarros3/learnpython/blob/main/while_com_interrup%C3%A7%C3%A3o.ipynb\" target=\"_parent\"><img src=\"https://colab.research.google.com/assets/colab-badge.svg\" alt=\"Open In Colab\"/></a>"
      ]
    },
    {
      "cell_type": "code",
      "metadata": {
        "id": "QvKgLAncNExE",
        "outputId": "13f301a7-1d05-4829-a3de-9890aad17702",
        "colab": {
          "base_uri": "https://localhost:8080/"
        }
      },
      "source": [
        "n = s = 0\n",
        "\n",
        "while True:\n",
        "  n = int(input('Digite um número: '))\n",
        "  if n == 999:\n",
        "    break\n",
        "  s += n\n",
        "print('A soma dos valores é {}'.format(s))"
      ],
      "execution_count": 1,
      "outputs": [
        {
          "output_type": "stream",
          "text": [
            "Digite um número: 1\n",
            "Digite um número: 9\n",
            "Digite um número: 5\n",
            "Digite um número: 3\n",
            "Digite um número: 8\n",
            "Digite um número: 999\n",
            "A soma dos valores é 26\n"
          ],
          "name": "stdout"
        }
      ]
    },
    {
      "cell_type": "code",
      "metadata": {
        "id": "tE2ZsrBlOfEM",
        "outputId": "a6bf2044-4f4e-4c50-8bc8-9457cccc7fa5",
        "colab": {
          "base_uri": "https://localhost:8080/"
        }
      },
      "source": [
        "n = s = 0\n",
        "\n",
        "while True:\n",
        "  n= int(input('Digite um valor: '))\n",
        "  if n == 999:\n",
        "    break\n",
        "  s += n\n",
        "\n",
        "print(f'A soma dos valores é {s}')  #utilizando f string"
      ],
      "execution_count": 2,
      "outputs": [
        {
          "output_type": "stream",
          "text": [
            "Digite um valor: 5\n",
            "Digite um valor: 6\n",
            "Digite um valor: 9\n",
            "Digite um valor: 3\n",
            "Digite um valor: 999\n",
            "A soma dos valores é 23\n"
          ],
          "name": "stdout"
        }
      ]
    },
    {
      "cell_type": "code",
      "metadata": {
        "id": "sIGlkAm_QFx1",
        "outputId": "722183b5-2488-4123-923b-a0f2a9987733",
        "colab": {
          "base_uri": "https://localhost:8080/"
        }
      },
      "source": [
        "# Exercício 66\n",
        "# programa que ler números inteiros e mostra a soma e quantos números foram digitados\n",
        "\n",
        "n = s = c = 0\n",
        "\n",
        "while True:\n",
        "\n",
        "  n = int(input('Digite um número: '))\n",
        "  if n == 999:\n",
        "    break\n",
        "  c += 1\n",
        "  s += n\n",
        "\n",
        "print(f'Você digitou {c} valores e a soma deles é {s}')\n"
      ],
      "execution_count": 6,
      "outputs": [
        {
          "output_type": "stream",
          "text": [
            "Digite um número: 4\n",
            "Digite um número: 6\n",
            "Digite um número: 9\n",
            "Digite um número: 8\n",
            "Digite um número: 7\n",
            "Digite um número: 999\n",
            "Você digitou 5 valores e a soma deles é 34\n"
          ],
          "name": "stdout"
        }
      ]
    },
    {
      "cell_type": "code",
      "metadata": {
        "id": "eYp3cbEQRWVN",
        "outputId": "4a5f6c0a-667c-40b6-e66c-c775132931c7",
        "colab": {
          "base_uri": "https://localhost:8080/"
        }
      },
      "source": [
        "# Exercício 67\n",
        "# programa que mostra a tabuada de qualquer número digitado pelo usuário. Parada em número negativo.\n",
        "\n",
        "while True:\n",
        "  \n",
        "  #Fazendo a tabuada\n",
        "  print('.-.' * 20)\n",
        "  n = int(input('Digite o número para que a tabuada seja gerada [número negativo para parar]:  '))\n",
        "  print('.-.' * 20)\n",
        "\n",
        "  # dizendo quando vai ser a parada\n",
        "  if n < 0:  \n",
        "    print('Fim do programa. Volte sempre!')\n",
        "    break  \n",
        " \n",
        "  # estabelecendo o range da tabuada\n",
        "  for c in range(1, 11):\n",
        "    print(f'{n} x {c:2} = {n*c:2}')\n",
        "    "
      ],
      "execution_count": 24,
      "outputs": [
        {
          "output_type": "stream",
          "text": [
            ".-..-..-..-..-..-..-..-..-..-..-..-..-..-..-..-..-..-..-..-.\n",
            "Digite o número para que a tabuada seja gerada [número negativo para parar]:  8\n",
            ".-..-..-..-..-..-..-..-..-..-..-..-..-..-..-..-..-..-..-..-.\n",
            "8 x  1 =  8\n",
            "8 x  2 = 16\n",
            "8 x  3 = 24\n",
            "8 x  4 = 32\n",
            "8 x  5 = 40\n",
            "8 x  6 = 48\n",
            "8 x  7 = 56\n",
            "8 x  8 = 64\n",
            "8 x  9 = 72\n",
            "8 x 10 = 80\n",
            ".-..-..-..-..-..-..-..-..-..-..-..-..-..-..-..-..-..-..-..-.\n",
            "Digite o número para que a tabuada seja gerada [número negativo para parar]:  9\n",
            ".-..-..-..-..-..-..-..-..-..-..-..-..-..-..-..-..-..-..-..-.\n",
            "9 x  1 =  9\n",
            "9 x  2 = 18\n",
            "9 x  3 = 27\n",
            "9 x  4 = 36\n",
            "9 x  5 = 45\n",
            "9 x  6 = 54\n",
            "9 x  7 = 63\n",
            "9 x  8 = 72\n",
            "9 x  9 = 81\n",
            "9 x 10 = 90\n",
            ".-..-..-..-..-..-..-..-..-..-..-..-..-..-..-..-..-..-..-..-.\n",
            "Digite o número para que a tabuada seja gerada [número negativo para parar]:  -2\n",
            ".-..-..-..-..-..-..-..-..-..-..-..-..-..-..-..-..-..-..-..-.\n",
            "Fim do programa. Volte sempre!\n"
          ],
          "name": "stdout"
        }
      ]
    },
    {
      "cell_type": "code",
      "metadata": {
        "id": "QGzXX_hEcn3Z",
        "outputId": "8d07f322-34fe-473d-f81a-cdac5fecf2d9",
        "colab": {
          "base_uri": "https://localhost:8080/"
        }
      },
      "source": [
        "# Exercício 68\n",
        "# jogo par ou ímpar\n",
        "from random import randint\n",
        "\n",
        "print('-=-' * 10)\n",
        "print('JOGO DO PAR OU ÍMPAR')\n",
        "print('-=-' * 10)\n",
        "\n",
        "print('Seja bem-vindo, jogador!')\n",
        "\n",
        "while True:\n",
        "\n",
        "  \n",
        "  print('.-.' * 10)\n",
        "  print('[impar] ÍMPAR')\n",
        "  print('[par] PAR')\n",
        "  print('[S] SAIR DO JOGO')\n",
        "  opcao = str(input('>>>> Jogador, qual a sua opção? ')).upper()\n",
        "  print('.-.' * 10)\n",
        "\n",
        "  if opcao == 'S':\n",
        "    print('Você saiu do jogo!')\n",
        "    break\n",
        "    \n",
        "  j = int(input('Jogador, diga um valor: '))\n",
        "  c = randint(1, 11)\n",
        "\n",
        "  total = j + c\n",
        "  resto = total % 2\n",
        "  \n",
        "  if resto == 0 and opcao == 'PAR':\n",
        "    resultado = 'Par'\n",
        "    print('Você ganhou!')\n",
        "    print(f'Você escolheu {opcao}, jogou {j} e o computador jogou {c}. Logo, o número {total} é {resultado}.')\n",
        "  elif resto == 0 and opcao == 'IMPAR':\n",
        "    resultado = 'Par'\n",
        "    print('Você perdeu!!')\n",
        "    print(f'Você escolheu {opcao}, jogou {j} e o computador jogou {c}. Logo, o número {total} é {resultado}.')\n",
        "  elif resto == 1  and opcao == 'PAR':\n",
        "    resultado = 'ímpar'\n",
        "    print('Você perdeu!!!')\n",
        "    print(f'Você escolheu {opcao}, jogou {j} e o computador jogou {c}. Logo, o número {total} é {resultado}.')\n",
        "  elif resto == 1 and opcao == 'IMPAR':\n",
        "    resultado = 'ímpar'\n",
        "    print('Você ganhou!!')\n",
        "    print(f'Você escolheu {opcao}, jogou {j} e o computador jogou {c}. Logo, o número {total} é {resultado}.')\n",
        "  else:\n",
        "    print('Jogada inválida!')\n",
        "\n",
        " "
      ],
      "execution_count": 61,
      "outputs": [
        {
          "output_type": "stream",
          "text": [
            "-=--=--=--=--=--=--=--=--=--=-\n",
            "JOGO DO PAR OU ÍMPAR\n",
            "-=--=--=--=--=--=--=--=--=--=-\n",
            "Seja bem-vindo, jogador!\n",
            ".-..-..-..-..-..-..-..-..-..-.\n",
            "[impar] ÍMPAR\n",
            "[par] PAR\n",
            "[S] SAIR DO JOGO\n",
            ">>>> Jogador qual a sua opção? s\n",
            ".-..-..-..-..-..-..-..-..-..-.\n",
            "Você saiu do jogo!\n"
          ],
          "name": "stdout"
        }
      ]
    },
    {
      "cell_type": "code",
      "metadata": {
        "id": "KfBQ9ZGXhzXD",
        "outputId": "39e6a44a-992d-41ec-dfec-dc9f318ec77e",
        "colab": {
          "base_uri": "https://localhost:8080/"
        }
      },
      "source": [
        "total = 4 + 7\n",
        "resto = total % 2\n",
        "print(resto)"
      ],
      "execution_count": 55,
      "outputs": [
        {
          "output_type": "stream",
          "text": [
            "1\n"
          ],
          "name": "stdout"
        }
      ]
    }
  ]
}