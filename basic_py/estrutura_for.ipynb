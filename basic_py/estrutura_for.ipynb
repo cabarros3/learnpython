{
  "nbformat": 4,
  "nbformat_minor": 0,
  "metadata": {
    "colab": {
      "name": "estrutura_for.ipynb",
      "provenance": [],
      "collapsed_sections": [],
      "authorship_tag": "ABX9TyPpR6OljE6Uv2rMHrWXuUTc",
      "include_colab_link": true
    },
    "kernelspec": {
      "name": "python3",
      "display_name": "Python 3"
    }
  },
  "cells": [
    {
      "cell_type": "markdown",
      "metadata": {
        "id": "view-in-github",
        "colab_type": "text"
      },
      "source": [
        "<a href=\"https://colab.research.google.com/github/cabarros3/learnpython/blob/main/estrutura_for.ipynb\" target=\"_parent\"><img src=\"https://colab.research.google.com/assets/colab-badge.svg\" alt=\"Open In Colab\"/></a>"
      ]
    },
    {
      "cell_type": "markdown",
      "metadata": {
        "id": "qquesT8f6e-y"
      },
      "source": [
        "## Estudando a estrutura de repetição FOR\n",
        "\n",
        "Aqui também vou fazer os exercícios da aula 13 do curso em vídeo"
      ]
    },
    {
      "cell_type": "code",
      "metadata": {
        "id": "A8eNhgbr_xmB"
      },
      "source": [
        "from time import sleep"
      ],
      "execution_count": 1,
      "outputs": []
    },
    {
      "cell_type": "code",
      "metadata": {
        "id": "gFjCbkt66Npy",
        "outputId": "dc62f0cd-79e3-4f84-8fa6-7b35c2eb2913",
        "colab": {
          "base_uri": "https://localhost:8080/"
        }
      },
      "source": [
        "# o contador irá contar de 0 a 10\n",
        "for c in range(0,10):\n",
        "  print(c)\n",
        "print('fim.')"
      ],
      "execution_count": 2,
      "outputs": [
        {
          "output_type": "stream",
          "text": [
            "0\n",
            "1\n",
            "2\n",
            "3\n",
            "4\n",
            "5\n",
            "6\n",
            "7\n",
            "8\n",
            "9\n",
            "fim.\n"
          ],
          "name": "stdout"
        }
      ]
    },
    {
      "cell_type": "code",
      "metadata": {
        "id": "5iLzoq827pVB",
        "outputId": "3761de49-5ae8-4b47-b5bc-201e5b09b4f2",
        "colab": {
          "base_uri": "https://localhost:8080/"
        }
      },
      "source": [
        "# o contador irá contar de 0 a num (número que receberá pelo input)\n",
        "num = int(input('Digite um número: '))\n",
        "for c in range(0, num):\n",
        "  print(c)\n",
        "print('fim.')"
      ],
      "execution_count": 3,
      "outputs": [
        {
          "output_type": "stream",
          "text": [
            "Digite um número: 5\n",
            "0\n",
            "1\n",
            "2\n",
            "3\n",
            "4\n",
            "fim.\n"
          ],
          "name": "stdout"
        }
      ]
    },
    {
      "cell_type": "code",
      "metadata": {
        "id": "7ubeRrCT68pZ",
        "outputId": "e0d4c770-b940-4692-a521-6dc162042e3a",
        "colab": {
          "base_uri": "https://localhost:8080/"
        }
      },
      "source": [
        "# o contador irá contar de 0 a 10 de 2 em 2\n",
        "for c in range(0,10,2):\n",
        "  print(c)\n",
        "print('fim.')"
      ],
      "execution_count": 4,
      "outputs": [
        {
          "output_type": "stream",
          "text": [
            "0\n",
            "2\n",
            "4\n",
            "6\n",
            "8\n",
            "fim.\n"
          ],
          "name": "stdout"
        }
      ]
    },
    {
      "cell_type": "code",
      "metadata": {
        "id": "EK2SvBy48PZz",
        "outputId": "3e78a465-1cbc-4054-b39e-ca492cc32912",
        "colab": {
          "base_uri": "https://localhost:8080/"
        }
      },
      "source": [
        "# o contador irá contar de i a f no passo p\n",
        "i = int(input('Digite o início: '))\n",
        "f = int(input('Digite o final: '))\n",
        "p = int(input('Digite o passo: '))\n",
        "for c in range (i, f, p):\n",
        "  print(c)\n",
        "print('fim.')"
      ],
      "execution_count": 5,
      "outputs": [
        {
          "output_type": "stream",
          "text": [
            "Digite o início: 7\n",
            "Digite o final: 8\n",
            "Digite o passo: 9\n",
            "7\n",
            "fim.\n"
          ],
          "name": "stdout"
        }
      ]
    },
    {
      "cell_type": "code",
      "metadata": {
        "id": "opjCOKEw9nRH",
        "outputId": "6b35400d-45ab-466c-ab28-47f3c0bd1f12",
        "colab": {
          "base_uri": "https://localhost:8080/"
        }
      },
      "source": [
        "s = 0\n",
        "for c in range(0, 3):\n",
        "  n = int(input('Digite um número: '))\n",
        "  s += n\n",
        "print('A soma de S + N é {}'.format(s))"
      ],
      "execution_count": 6,
      "outputs": [
        {
          "output_type": "stream",
          "text": [
            "Digite um número: 9\n",
            "Digite um número: 8\n",
            "Digite um número: 9\n",
            "A soma de S + N é 26\n"
          ],
          "name": "stdout"
        }
      ]
    },
    {
      "cell_type": "code",
      "metadata": {
        "id": "HFIq3t80_8SU",
        "outputId": "ce3a8963-cb4a-4949-a5af-70add9443198",
        "colab": {
          "base_uri": "https://localhost:8080/"
        }
      },
      "source": [
        "# Exercício 46\n",
        "# contagem regressiva para estouro de fogod de 10 a 0. 1 segundo de pausa entre a contagem e o estouro\n",
        "for estouro in range(10, -1,-1):\n",
        "    print(estouro)\n",
        "    sleep(0.5)\n",
        "print('É o pipoco do ano novo')"
      ],
      "execution_count": 7,
      "outputs": [
        {
          "output_type": "stream",
          "text": [
            "10\n",
            "9\n",
            "8\n",
            "7\n",
            "6\n",
            "5\n",
            "4\n",
            "3\n",
            "2\n",
            "1\n",
            "0\n",
            "É o pipoco do ano novo\n"
          ],
          "name": "stdout"
        }
      ]
    },
    {
      "cell_type": "code",
      "metadata": {
        "id": "OE-gjW0RNxoQ",
        "outputId": "c7f5f318-5f2e-4908-fa01-364a35595ccf",
        "colab": {
          "base_uri": "https://localhost:8080/"
        }
      },
      "source": [
        "# Exercício 47\n",
        "# contador de 2 em 2 de 1 até 50.\n",
        "for contador in range(0 , 51, 2):\n",
        "  print(contador)\n",
        "print('Final')"
      ],
      "execution_count": 8,
      "outputs": [
        {
          "output_type": "stream",
          "text": [
            "0\n",
            "2\n",
            "4\n",
            "6\n",
            "8\n",
            "10\n",
            "12\n",
            "14\n",
            "16\n",
            "18\n",
            "20\n",
            "22\n",
            "24\n",
            "26\n",
            "28\n",
            "30\n",
            "32\n",
            "34\n",
            "36\n",
            "38\n",
            "40\n",
            "42\n",
            "44\n",
            "46\n",
            "48\n",
            "50\n",
            "Final\n"
          ],
          "name": "stdout"
        }
      ]
    },
    {
      "cell_type": "code",
      "metadata": {
        "id": "IcxNMqQXQVyD",
        "outputId": "e26be5da-b7f4-4e13-bf28-5c6cae023570",
        "colab": {
          "base_uri": "https://localhost:8080/"
        }
      },
      "source": [
        "# Exercício 49\n",
        "# Tabuada\n",
        "n = int(input('Digite um número: '))\n",
        "m = n\n",
        "for tabuada in range(1,11):\n",
        "  m = tabuada * n\n",
        "  print('{} X {:2} = {:2}'.format(n, tabuada, m))\n",
        "print('Fim')"
      ],
      "execution_count": 9,
      "outputs": [
        {
          "output_type": "stream",
          "text": [
            "Digite um número: 10\n",
            "10 X  1 = 10\n",
            "10 X  2 = 20\n",
            "10 X  3 = 30\n",
            "10 X  4 = 40\n",
            "10 X  5 = 50\n",
            "10 X  6 = 60\n",
            "10 X  7 = 70\n",
            "10 X  8 = 80\n",
            "10 X  9 = 90\n",
            "10 X 10 = 100\n",
            "Fim\n"
          ],
          "name": "stdout"
        }
      ]
    },
    {
      "cell_type": "code",
      "metadata": {
        "id": "CpSXnhJRNxtB",
        "outputId": "81bc0a2d-9551-41be-ad67-4a7846434816",
        "colab": {
          "base_uri": "https://localhost:8080/"
        }
      },
      "source": [
        "# Exercício 48\n",
        "# A soma dos números ímpares que são multiplos de 3\n",
        "soma = 0\n",
        "cont = 0\n",
        "for c in range (1, 500, 2):\n",
        "  if c % 3 == 0:\n",
        "    soma += c #acumulador\n",
        "    cont += 1\n",
        "print('A soma dos {} valores é {}'.format(cont, soma))"
      ],
      "execution_count": 10,
      "outputs": [
        {
          "output_type": "stream",
          "text": [
            "A soma dos 83 valores é 20667\n"
          ],
          "name": "stdout"
        }
      ]
    },
    {
      "cell_type": "code",
      "metadata": {
        "id": "BfKCUwwzUBfg",
        "outputId": "cab5d923-4a10-47c3-813d-374c35dd7a69",
        "colab": {
          "base_uri": "https://localhost:8080/"
        }
      },
      "source": [
        "# Exercício 50\n",
        "# a soma dos número pares\n",
        "soma = 0\n",
        "cont = 0 \n",
        "for c in range(0, 50, 2):\n",
        "  if c % 2 == 0:\n",
        "    soma += c\n",
        "    cont += 1\n",
        "\n",
        "print('A soma dos {} valores é {}'.format(cont, soma))"
      ],
      "execution_count": 11,
      "outputs": [
        {
          "output_type": "stream",
          "text": [
            "A soma dos 25 valores é 600\n"
          ],
          "name": "stdout"
        }
      ]
    },
    {
      "cell_type": "code",
      "metadata": {
        "id": "A_lrIwQ3YeRL",
        "outputId": "8c7b50ec-7798-4a0b-b925-c89254b04266",
        "colab": {
          "base_uri": "https://localhost:8080/"
        }
      },
      "source": [
        "# Exercício 51\n",
        "# progressão aritmética\n",
        "inicio = int(input('Qual o início: '))\n",
        "razao = int(input('Qual a razão: '))\n",
        "decimo = inicio + (10 - 1) * razao\n",
        "\n",
        "for c in range(inicio, decimo, razao):\n",
        "  print('{}'.format(c), end=' --> ')\n",
        "print('Acabou')"
      ],
      "execution_count": 13,
      "outputs": [
        {
          "output_type": "stream",
          "text": [
            "Qual o início: 1\n",
            "Qual a razão: 2\n",
            "1 --> 3 --> 5 --> 7 --> 9 --> 11 --> 13 --> 15 --> 17 --> Acabou\n"
          ],
          "name": "stdout"
        }
      ]
    },
    {
      "cell_type": "code",
      "metadata": {
        "id": "V6Q7SyT4aGOJ",
        "outputId": "49625c28-2054-4227-c118-0a86ac97a51b",
        "colab": {
          "base_uri": "https://localhost:8080/"
        }
      },
      "source": [
        "# exercício 54\n",
        "# analisando grupos de idades\n",
        "\n",
        "# importando a biblioteca datetime\n",
        "from datetime import date\n",
        "\n",
        "# criando variáveis\n",
        "atual = date.today().year\n",
        "totmaior = 0\n",
        "totmenor = 0\n",
        "\n",
        "# criando o for\n",
        "for pessoas in range(1,8):\n",
        "  nasc = int(input('Em que ano a {} nasceu? '.format(pessoas)))\n",
        "  idade = atual - nasc\n",
        "  # testando uma análise com o if/else\n",
        "  if idade >= 21:\n",
        "    totmaior += 1\n",
        "  else:\n",
        "    totmenor += 1\n",
        "print('Ao todo tivemos {} pessoas maiores de idade'.format(totmaior))\n",
        "print('E {} pessoas menores de idade'.format(totmenor))\n"
      ],
      "execution_count": 37,
      "outputs": [
        {
          "output_type": "stream",
          "text": [
            "Em que ano a 1 nasceu? 1981\n",
            "Em que ano a 2 nasceu? 1940\n",
            "Em que ano a 3 nasceu? 2020\n",
            "Em que ano a 4 nasceu? 2015\n",
            "Em que ano a 5 nasceu? 2016\n",
            "Em que ano a 6 nasceu? 2005\n",
            "Em que ano a 7 nasceu? 1994\n",
            "Ao todo tivemos 3 pessoas maiores de idade\n",
            "E 4 pessoas menores de idade\n"
          ],
          "name": "stdout"
        }
      ]
    },
    {
      "cell_type": "code",
      "metadata": {
        "id": "qCxbYC-Srf89",
        "outputId": "8a9a5a2b-9321-4815-cae9-e307e078ab92",
        "colab": {
          "base_uri": "https://localhost:8080/",
          "height": 126
        }
      },
      "source": [
        "# exercício extra\n",
        "# Calculadora de dias em atraso com for\n",
        "\n",
        "import datetime as dt\n",
        "\n",
        "for pessoa in range(1, 3): \n",
        "  # Criando variáveis\n",
        "\n",
        "  dt_prevista = str(input('Qual a data prevista para a devolução da {}: '.format(pessoa)))\n",
        "  conv_prevista = dt.datetime.strptime(dt_prevista, '%d/%m/%Y')\n",
        "\n",
        "  dt_efetiva = str(input('Qual a data da devolução efetiva da {} pessoa: '.format(pessoa)))\n",
        "  conv_efetiva = dt.datetime.strptime(dt_efetiva, '%d/%m/%Y')\n",
        "\n",
        "  # criando o contador\n",
        "  # função abs é uma função que retorna o valor absoluto\n",
        "\n",
        "  contador_dias = abs((conv_prevista - conv_efetiva).days)\n",
        "  \n",
        "print('Vocês está {} dias em atraso'.format(contador_dias))\n",
        "\n",
        "\n",
        "\n",
        "# PROBLEMA: tentei fazer com o for, mas ainda não sei como guardar os valores e exibir eles com diferentes informações.\n",
        "\n"
      ],
      "execution_count": 51,
      "outputs": [
        {
          "output_type": "stream",
          "text": [
            "Qual a data prevista para a devolução: 4/01/2020\n",
            "Qual a data da devolução efetiva: 01/02/2020\n",
            "Qual a data prevista para a devolução: 08/01/2020\n",
            "Qual a data da devolução efetiva: 08/11/2020\n",
            "Vocês está 305 dias em atraso\n"
          ],
          "name": "stdout"
        },
        {
          "output_type": "execute_result",
          "data": {
            "application/vnd.google.colaboratory.intrinsic+json": {
              "type": "string"
            },
            "text/plain": [
              "'\\nPROBLEMA: tentei fazer com o for, mas ainda não sei como guardar os valores \\ne exibir eles com diferentes informações.\\n'"
            ]
          },
          "metadata": {
            "tags": []
          },
          "execution_count": 51
        }
      ]
    },
    {
      "cell_type": "code",
      "metadata": {
        "id": "LovFeDDVpv3U",
        "outputId": "7d86256b-78c1-4341-e583-57c4e1fe04a5",
        "colab": {
          "base_uri": "https://localhost:8080/"
        }
      },
      "source": [
        "#Exercício 55\n",
        "# O maior e menor de uma sequência\n",
        "\n",
        "pmaior = 0\n",
        "pmenor = 0\n",
        "\n",
        "for p in range(1,6):\n",
        "  peso = float(input('Qual o peso da {} pessoa: '.format(p)))\n",
        "  if peso == 1:\n",
        "    pmaior = peso\n",
        "    pmenor = peso\n",
        "  else:\n",
        "    if peso > pmaior:\n",
        "      pmaior = peso\n",
        "    else:\n",
        "      pmenor = peso\n",
        "\n",
        "print('O maior peso lido foi {}KG.'.format(pmaior))\n",
        "print('O menor peso lido foi {}KG'.format(pmenor))\n",
        "\n",
        "# PROBLEMA: Só consigo obter zero kg como menor peso\n",
        "# resolvido, no lugar de colocar dois if no else, coloque if/else e resolveu o problema.\n"
      ],
      "execution_count": 13,
      "outputs": [
        {
          "output_type": "stream",
          "text": [
            "Qual o peso da 1 pessoa: 1000\n",
            "Qual o peso da 2 pessoa: 250\n",
            "Qual o peso da 3 pessoa: 300\n",
            "Qual o peso da 4 pessoa: 150\n",
            "Qual o peso da 5 pessoa: 50\n",
            "O maior peso lido foi 1000.0KG.\n",
            "O menor peso lido foi 50.0KG\n"
          ],
          "name": "stdout"
        }
      ]
    },
    {
      "cell_type": "code",
      "metadata": {
        "id": "7ldCQISpv-Vg",
        "outputId": "05a23028-fd33-4245-cbb5-b67c2363025a",
        "colab": {
          "base_uri": "https://localhost:8080/"
        }
      },
      "source": [
        "# Exercício 56\n",
        "# Analisador de dados pessoais: a média de idade do grupo; O homem mais velho e Quantas mulheres tem menos de 20 anos.\n",
        "\n",
        "# criando variáveis\n",
        "\n",
        "maiorhomem = 0\n",
        "nomevelho = ''\n",
        "somaidade = 0\n",
        "mediaidade = 0\n",
        "totmulher20 = 0\n",
        "\n",
        "# criando o range\n",
        "\n",
        "for lista in range(1, 6):\n",
        "  print('-=-' *  10)\n",
        "  nome = str(input('Nome: ')).strip()\n",
        "  idade = int(input('Idade: '))\n",
        "  sexo = str(input('Sexo (M/F): ')).strip()\n",
        "  somaidade += idade\n",
        "\n",
        "  # Calculando o nome e a idade do homem mais velho E a mulher menor de 20 anos\n",
        "  if lista == 1 and sexo in 'Mm':\n",
        "    maiorhomem = idade\n",
        "    nomevelho = nome\n",
        "  if sexo in 'Mm' and idade > maiorhomem:\n",
        "    maiorhomem = idade\n",
        "    nomevelho = nome\n",
        "  if sexo in 'Ff' and idade < 20:\n",
        "    totmulher20 += 1\n",
        "\n",
        "\n",
        "# cálculo da média de idade\n",
        "mediaidade = somaidade / 4\n",
        "\n",
        "print('A média de idade do grupo é {} anos.'.format(mediaidade))\n",
        "print('O homem mais velho tem {} anos e se chama {}'.format(maiorhomem, nomevelho))\n",
        "print('São {} mulheres com menos de 20 anos'.format(totmulher20))"
      ],
      "execution_count": 27,
      "outputs": [
        {
          "output_type": "stream",
          "text": [
            "-=--=--=--=--=--=--=--=--=--=-\n",
            "Nome: Camilla\n",
            "Idade: 26\n",
            "Sexo (M/F): f\n",
            "-=--=--=--=--=--=--=--=--=--=-\n",
            "Nome: Stefi\n",
            "Idade: 15\n",
            "Sexo (M/F): f\n",
            "-=--=--=--=--=--=--=--=--=--=-\n",
            "Nome: Roberta\n",
            "Idade: 14\n",
            "Sexo (M/F): f\n",
            "-=--=--=--=--=--=--=--=--=--=-\n",
            "Nome: Claudio\n",
            "Idade: 55\n",
            "Sexo (M/F): m\n",
            "A média de idade do grupo é 27.5 anos.\n",
            "O homem mais velho tem 55 anos e se chama Claudio\n",
            "São 2 mulheres com menos de 20 anos\n"
          ],
          "name": "stdout"
        }
      ]
    },
    {
      "cell_type": "code",
      "metadata": {
        "id": "STBomvJA7p_i",
        "outputId": "0001af06-b6aa-4119-ac81-aff8030a9670",
        "colab": {
          "base_uri": "https://localhost:8080/"
        }
      },
      "source": [
        "# exercício extra 2\n",
        "# um programa que leia 5 números e que mostre o maior número entre eles\n",
        "\n",
        "# declarando as variáveis iniciais\n",
        "maiornumero = 0\n",
        "medianumero = 0\n",
        "somanumero = 0\n",
        "\n",
        "for numeros in range (1,6):\n",
        "  \n",
        "  # Criando as variáveis\n",
        "  num = int(input('Digite {} número: '.format(numeros)))\n",
        "  somanumero += num\n",
        "\n",
        "  # Criando a condição if\n",
        "  if numeros == 1:\n",
        "    maiornumero = num\n",
        "  if num > maiornumero:\n",
        "    maiornumero = num\n",
        "\n",
        "\n",
        "# calculando a média dos números\n",
        "medianumero = somanumero / 5\n",
        "   \n",
        "print('O maior número da sequência é {}'.format(maiornumero))\n",
        "print('A soma dos números é {}'.format(somanumero))\n",
        "print('A média dos números é {}'.format(medianumero))\n",
        "\n"
      ],
      "execution_count": 34,
      "outputs": [
        {
          "output_type": "stream",
          "text": [
            "Digite 1 número: 5\n",
            "Digite 2 número: 56\n",
            "Digite 3 número: 34\n",
            "Digite 4 número: 89\n",
            "Digite 5 número: 13\n",
            "O maior número da sequência é 89\n",
            "A soma dos números é 197\n",
            "A média dos números é 39.4\n"
          ],
          "name": "stdout"
        }
      ]
    },
    {
      "cell_type": "code",
      "metadata": {
        "id": "pOzuX3Hr_6r3",
        "outputId": "d2e3b986-233b-4f7a-9e8f-5108a91b9fa4",
        "colab": {
          "base_uri": "https://localhost:8080/"
        }
      },
      "source": [
        "# exercício extra 3\n",
        "# calculando soma, maior e menor\n",
        "\n",
        "# criando variáveis\n",
        "amenor = 0\n",
        "amaior = 0\n",
        "asoma = 0\n",
        "x = int(input('Digite o início: '))\n",
        "y = int(input('Digite a parada: '))\n",
        "\n",
        "\n",
        "# criando for\n",
        "for grupo in range (x, y):\n",
        "  \n",
        "  #criando as variáveis\n",
        "  a = int(input('Digite {} núemro: '.format(grupo)))\n",
        "  asoma += a\n",
        "\n",
        "  # criando a condição\n",
        "  if grupo == 1:\n",
        "    amaior = a\n",
        "    amenor = a\n",
        "  if a > amaior:\n",
        "    amaior = a\n",
        "  if a < amenor:\n",
        "    amenor = a\n",
        "\n",
        "#imprimindo a análise\n",
        "print('O maior número da sequência é {}'.format(amaior))\n",
        "print('O menor número da sequência é {}'.format(amenor))\n",
        "print('A soma dos valores da sequência é {}'.format(asoma))"
      ],
      "execution_count": 38,
      "outputs": [
        {
          "output_type": "stream",
          "text": [
            "Digite o início: 1\n",
            "Digite a parada: 6\n",
            "Digite 1 núemro: 5\n",
            "Digite 2 núemro: 4\n",
            "Digite 3 núemro: 8\n",
            "Digite 4 núemro: 26\n",
            "Digite 5 núemro: 89\n",
            "O maior número da sequência é 89\n",
            "O menor número da sequência é 4\n",
            "A soma dos valores da sequência é 132\n"
          ],
          "name": "stdout"
        }
      ]
    }
  ]
}
