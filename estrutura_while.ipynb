{
  "nbformat": 4,
  "nbformat_minor": 0,
  "metadata": {
    "colab": {
      "name": "estrutura_while.ipynb",
      "provenance": [],
      "authorship_tag": "ABX9TyOyTqzx05AzNxeKMcTqd+EF",
      "include_colab_link": true
    },
    "kernelspec": {
      "name": "python3",
      "display_name": "Python 3"
    }
  },
  "cells": [
    {
      "cell_type": "markdown",
      "metadata": {
        "id": "view-in-github",
        "colab_type": "text"
      },
      "source": [
        "<a href=\"https://colab.research.google.com/github/cabarros3/learnpython/blob/main/estrutura_while.ipynb\" target=\"_parent\"><img src=\"https://colab.research.google.com/assets/colab-badge.svg\" alt=\"Open In Colab\"/></a>"
      ]
    },
    {
      "cell_type": "markdown",
      "metadata": {
        "id": "ybYxlAaGcOSk"
      },
      "source": [
        "## Estrutura WHILE\n",
        "\n",
        "Aula 14 do curso em vídeo\n"
      ]
    },
    {
      "cell_type": "code",
      "metadata": {
        "id": "CZHLHKNaYoFZ",
        "outputId": "aff081b8-07e1-448e-8eb5-05b3219063f5",
        "colab": {
          "base_uri": "https://localhost:8080/"
        }
      },
      "source": [
        "c= 1 \n",
        "while c < 10:\n",
        "  print(c)\n",
        "  c += 1"
      ],
      "execution_count": 1,
      "outputs": [
        {
          "output_type": "stream",
          "text": [
            "1\n",
            "2\n",
            "3\n",
            "4\n",
            "5\n",
            "6\n",
            "7\n",
            "8\n",
            "9\n"
          ],
          "name": "stdout"
        }
      ]
    },
    {
      "cell_type": "code",
      "metadata": {
        "id": "2ZKY-_m3dRHz",
        "outputId": "1c8b5454-9c9c-4b13-cfc6-5658e14533aa",
        "colab": {
          "base_uri": "https://localhost:8080/"
        }
      },
      "source": [
        "n = 1\n",
        "while n != 0:\n",
        "  n = int(input('Digite um valor'))\n",
        "print('FIm')"
      ],
      "execution_count": 2,
      "outputs": [
        {
          "output_type": "stream",
          "text": [
            "Digite um valor1\n",
            "Digite um valor2\n",
            "Digite um valor20\n",
            "Digite um valor4542\n",
            "Digite um valor0\n",
            "FIm\n"
          ],
          "name": "stdout"
        }
      ]
    },
    {
      "cell_type": "code",
      "metadata": {
        "id": "MjErTiWpeYv1",
        "outputId": "5ccb0016-c25f-48f5-9a32-25fca8ad477f",
        "colab": {
          "base_uri": "https://localhost:8080/"
        }
      },
      "source": [
        "n = 1\n",
        "par = impar = 0\n",
        "while n != 0:\n",
        "  n = int(input('Digite um valor: '))\n",
        "  if n % 2 == 0:\n",
        "    par += 1\n",
        "  else:\n",
        "    impar += 1\n",
        "print('Você digitou {} números pares e {} números ímpares.'.format(par, impar))"
      ],
      "execution_count": 3,
      "outputs": [
        {
          "output_type": "stream",
          "text": [
            "Digite um valor: 1\n",
            "Digite um valor: 5\n",
            "Digite um valor: 0\n",
            "Você digitou 1 números pares e 2 números ímpares.\n"
          ],
          "name": "stdout"
        }
      ]
    },
    {
      "cell_type": "code",
      "metadata": {
        "id": "v-R2f8WWjRlB",
        "outputId": "65e5f52f-8ca2-4cab-d2d4-7633251d798f",
        "colab": {
          "base_uri": "https://localhost:8080/"
        }
      },
      "source": [
        "# Exercício 57\n",
        "# validação de dados\n",
        "\n",
        "sexo = str(input('Informe o seu sexo: [M/F] ')).strip().upper()[0]\n",
        "while sexo not in 'MmFf':\n",
        "  sexo = str(input('Dados inválidos, por favor, informe seu sexo: ')).strip().upper()[0]\n",
        "print('Sexo {} registrado com sucesso.'.format(sexo))"
      ],
      "execution_count": 4,
      "outputs": [
        {
          "output_type": "stream",
          "text": [
            "Informe o seu sexo: [M/F] m\n",
            "Sexo M registrado com sucesso.\n"
          ],
          "name": "stdout"
        }
      ]
    },
    {
      "cell_type": "code",
      "metadata": {
        "id": "6yQlKVRee1fn",
        "outputId": "da7a4149-1b5d-46c3-ea3d-d792096c736c",
        "colab": {
          "base_uri": "https://localhost:8080/"
        }
      },
      "source": [
        "# execício 58\n",
        "# jogo da advinhação v.2\n",
        "# minha resposta\n",
        "from random import randint\n",
        "\n",
        "# Estética do jogo\n",
        "print('-=-' * 10)\n",
        "print('Jogo da Advinhação')\n",
        "print('-=-' * 10)\n",
        "print('Vou pensar em um número, tente advinhar....')\n",
        "print('.-.' * 10)\n",
        "\n",
        "# Variáveis\n",
        "aleatorio = randint(0,5)\n",
        "num = 0\n",
        "cont = 0\n",
        "\n",
        "#Estrutura de repetição\n",
        "while num != aleatorio:\n",
        "  num = int(input('Em que número estou pensando? '))\n",
        "  cont += 1\n",
        "  if num != aleatorio:\n",
        "    print('Você errou! Não pensei nesse número...Tente novamente')\n",
        "\n",
        "print('.-.' * 10)    \n",
        "print('Você acertou! Eu pensei no número {} e você acertou em {} tentativas.'.format(aleatorio, cont))"
      ],
      "execution_count": 5,
      "outputs": [
        {
          "output_type": "stream",
          "text": [
            "-=--=--=--=--=--=--=--=--=--=-\n",
            "Jogo da Advinhação\n",
            "-=--=--=--=--=--=--=--=--=--=-\n",
            "Vou pensar em um número, tente advinhar....\n",
            ".-..-..-..-..-..-..-..-..-..-.\n",
            "Em que número estou pensando? 2\n",
            "Você errou! Não pensei nesse número...Tente novamente\n",
            "Em que número estou pensando? 3\n",
            "Você errou! Não pensei nesse número...Tente novamente\n",
            "Em que número estou pensando? 5\n",
            "Você errou! Não pensei nesse número...Tente novamente\n",
            "Em que número estou pensando? 1\n",
            ".-..-..-..-..-..-..-..-..-..-.\n",
            "Você acertou! Eu pensei no número 1 e você acertou em 4 tentativas.\n"
          ],
          "name": "stdout"
        }
      ]
    },
    {
      "cell_type": "code",
      "metadata": {
        "id": "GP2C9CotxGJC",
        "outputId": "b25641ed-85b1-4920-b337-3a2d5a9aa920",
        "colab": {
          "base_uri": "https://localhost:8080/"
        }
      },
      "source": [
        "# execício 58\n",
        "# jogo da advinhação\n",
        "# resposta guanabara curso em video\n",
        "\n",
        "computador = randint(1,5)\n",
        "print('Sou seu computador...Acabei de pensar em um número de 0 a 5.')\n",
        "print('Será que você consegue advinhar qual foi? ')\n",
        "acertou = False\n",
        "palpites = 0 \n",
        "while not acertou:\n",
        "  jogador = int(input('Qual o seu palpite? '))\n",
        "  palpites += 1\n",
        "  if jogador == computador:\n",
        "    acertou = True\n",
        "  if jogador < computador:\n",
        "    print('Mais... Tente novamente...')\n",
        "  elif jogador > computador:\n",
        "    print('Menos... Tente novamente...')\n",
        "print('Acertou! Você acertou em {} palpites'.format(palpites)) \n"
      ],
      "execution_count": 6,
      "outputs": [
        {
          "output_type": "stream",
          "text": [
            "Sou seu computador...Acabei de pensar em um número de 0 a 5.\n",
            "Será que você consegue advinhar qual foi? \n",
            "Qual o seu palpite? 2\n",
            "Menos... Tente novamente...\n",
            "Qual o seu palpite? 3\n",
            "Menos... Tente novamente...\n",
            "Qual o seu palpite? 5\n",
            "Menos... Tente novamente...\n",
            "Qual o seu palpite? 1\n",
            "Acertou! Você acertou em 4 palpites\n"
          ],
          "name": "stdout"
        }
      ]
    },
    {
      "cell_type": "code",
      "metadata": {
        "id": "SXlhjcb74bqH",
        "outputId": "267e75f8-9bc5-43d7-ce7b-25662594d8b4",
        "colab": {
          "base_uri": "https://localhost:8080/"
        }
      },
      "source": [
        "# Exercício 59\n",
        "# Criando um programa com menu de opções\n",
        "# minha resposta\n",
        "\n",
        "#lendo dois números\n",
        "numero_1 = int(input('Digite o primeiro número: '))\n",
        "numero_2 = int(input('Digite o segundo número: '))\n",
        "opcao = 0\n",
        "\n",
        "# Variáveis para os cálculos \n",
        "soma = 0\n",
        "mult = 0\n",
        "\n",
        "#criando a estrutura while\n",
        "while opcao != 5:\n",
        "  print('.-.' * 10)\n",
        "  print('[1] Somar')\n",
        "  print('[2] Multiplicar')\n",
        "  print('[3] Maior')\n",
        "  print('[4] Menor')\n",
        "  print('[5] Sair')\n",
        "  print('.-.' * 10)\n",
        "  opcao = int(input('Qual é a sua opção? '))\n",
        "  print('.-.' * 10)\n",
        "  if opcao == 1:\n",
        "    soma = numero_1 + numero_2\n",
        "    print('O resultado da soma entre {} e {} é {}'.format( numero_1, numero_2,soma))\n",
        "  if opcao == 2:\n",
        "    mult = numero_1 * numero_2\n",
        "    print('O resultado da multiplicação entre {} e {} é {}'.format(numero_1, numero_2, mult))\n",
        "  if opcao == 3:\n",
        "    if numero_1 > numero_2:\n",
        "      print('O {} é maior que o {}'.format(numero_1, numero_2))\n",
        "    else:\n",
        "      print('O {} é maior que o {}'.format(numero_2, numero_1))\n",
        "  if opcao == 4:\n",
        "    if numero_1 < numero_2:\n",
        "      print('O {} é menor que o {}'.format(numero_1, numero_2))\n",
        "    else:\n",
        "      print('O {} é menor que o {}'.format(numero_2, numero_1))\n",
        "\n",
        "print('Você saiu do programa')"
      ],
      "execution_count": 7,
      "outputs": [
        {
          "output_type": "stream",
          "text": [
            "Digite o primeiro número: 1\n",
            "Digite o segundo número: 2\n",
            ".-..-..-..-..-..-..-..-..-..-.\n",
            "[1] Somar\n",
            "[2] Multiplicar\n",
            "[3] Maior\n",
            "[4] Menor\n",
            "[5] Sair\n",
            ".-..-..-..-..-..-..-..-..-..-.\n",
            "Qual é a sua opção? 5\n",
            ".-..-..-..-..-..-..-..-..-..-.\n",
            "Você saiu do programa\n"
          ],
          "name": "stdout"
        }
      ]
    },
    {
      "cell_type": "code",
      "metadata": {
        "id": "8rKflOM09QE0",
        "outputId": "6a26f494-fdaf-473a-d746-3a7247404ded",
        "colab": {
          "base_uri": "https://localhost:8080/"
        }
      },
      "source": [
        "# Exercício 59\n",
        "# criar um programa com menu\n",
        "# resposta guanabara\n",
        "\n",
        "n1 = int(input('Primeiro valor: '))\n",
        "n2 = int(input('Segundo valor: '))\n",
        "\n",
        "opção = 0\n",
        "\n",
        "while opção != 5:\n",
        "  print('.-.' * 10)\n",
        "  print('[1] Somar')\n",
        "  print('[2] Multiplicar')\n",
        "  print('[3] Maior')\n",
        "  print('[4] Novos números')\n",
        "  print('[5] Sair')\n",
        "  print('.-.' * 10)\n",
        "  opção = int(input('>>>>> Qual é a sua opção? '))\n",
        "  print('.-.' * 10)\n",
        "\n",
        "  if opção == 1 :\n",
        "    soma = n1 + n2\n",
        "    print('A soma de {} + {} é {}'.format(n1, n2, soma))\n",
        "  elif opção == 2:\n",
        "    produto = n1 * n2\n",
        "    print('O produto de {} X {} é {}'.format(n1, n2, produto))\n",
        "  elif opção == 3:\n",
        "    if n1 > n2:\n",
        "      maior = n1\n",
        "    else:\n",
        "      maior = n2\n",
        "      print('Entre {} e {} o maior é {}'.format(n1, n2, maior))\n",
        "  elif opção == 4:\n",
        "    print('Informe os números novamente: ')\n",
        "    n1 = int(input('Primeiro valor: '))\n",
        "    n2 = int(input('Segundo valor: '))\n",
        "  elif opção == 5:\n",
        "    print('Finalizando...')\n",
        "    print('.-.' * 10)\n",
        "  else:\n",
        "    print('Opção errada. Tente novamente.')\n",
        "\n",
        "\n",
        "\n",
        "print('Fim do programa. Volte sempre!')\n"
      ],
      "execution_count": 8,
      "outputs": [
        {
          "output_type": "stream",
          "text": [
            "Primeiro valor: 1\n",
            "Segundo valor: 2\n",
            ".-..-..-..-..-..-..-..-..-..-.\n",
            "[1] Somar\n",
            "[2] Multiplicar\n",
            "[3] Maior\n",
            "[4] Novos números\n",
            "[5] Sair\n",
            ".-..-..-..-..-..-..-..-..-..-.\n",
            ">>>>> Qual é a sua opção? 5\n",
            ".-..-..-..-..-..-..-..-..-..-.\n",
            "Finalizando...\n",
            ".-..-..-..-..-..-..-..-..-..-.\n",
            "Fim do programa. Volte sempre!\n"
          ],
          "name": "stdout"
        }
      ]
    },
    {
      "cell_type": "code",
      "metadata": {
        "id": "gPXfIwwGLz3C",
        "outputId": "f45681c4-61b2-492a-c40f-2cc9f130a5e4",
        "colab": {
          "base_uri": "https://localhost:8080/"
        }
      },
      "source": [
        "# exercício 60\n",
        "# calculando fatorial\n",
        "# resposta do guanabara\n",
        "from math import factorial\n",
        "\n",
        "n = int(input('Digite um número para calcular o seu fatorial: '))\n",
        "f = factorial(n)\n",
        "c = n \n",
        "print('Calculando o fatorial de {}! = '.format(n), end='')\n",
        "while c > 0:\n",
        "\n",
        "  print('{}'.format(c), end='')\n",
        "  print(' x ' if c > 1 else ' =', end='')\n",
        "  c -= 1\n",
        "print(' {}'.format(f), end='')"
      ],
      "execution_count": 9,
      "outputs": [
        {
          "output_type": "stream",
          "text": [
            "Digite um número para calcular o seu fatorial: 5\n",
            "Calculando o fatorial de 5! = 5 x 4 x 3 x 2 x 1 = 120"
          ],
          "name": "stdout"
        }
      ]
    },
    {
      "cell_type": "code",
      "metadata": {
        "id": "P24Jsj5wOMb8",
        "outputId": "aa3947c3-ea79-4a50-cd05-e7eedf0889a9",
        "colab": {
          "base_uri": "https://localhost:8080/"
        }
      },
      "source": [
        "# Exercício 61\n",
        "# Cálculo de PA\n",
        "\n",
        "primeiro = int(input('Digite o primeiro termo: '))\n",
        "razão = int(input('Digite a razão: '))\n",
        "termo = primeiro\n",
        "cont = 1\n",
        "\n",
        "while cont <=10:\n",
        "  print('{} --> '.format(termo), end='')\n",
        "  termo += razão\n",
        "  cont += 1\n",
        "print('Fim')\n"
      ],
      "execution_count": 12,
      "outputs": [
        {
          "output_type": "stream",
          "text": [
            "Digite o primeiro termo: 8\n",
            "Digite a razão: 3\n",
            "8 --> 11 --> 14 --> 17 --> 20 --> 23 --> 26 --> 29 --> 32 --> 35 --> Fim\n"
          ],
          "name": "stdout"
        }
      ]
    },
    {
      "cell_type": "code",
      "metadata": {
        "id": "0_3xcPCyDN5n",
        "outputId": "b35d5e94-d840-446e-e6e8-6d852bf2008c",
        "colab": {
          "base_uri": "https://localhost:8080/"
        }
      },
      "source": [
        "# Exercíco extra 03\n",
        "# cadastro e login em sistema\n",
        "\n",
        "print('=' * 20)\n",
        "\n",
        "# cadastrando usuário e senha\n",
        "user = str(input('Cadastre um usuário: '))\n",
        "senha = int(input('Cadastre uma senha numérica: '))\n",
        "\n",
        "# Mostrando mensagem de gravação de dados\n",
        "if user != '' and senha != 0:\n",
        "  print('Usuário e senha gravados com sucesso')\n",
        "else:\n",
        "  print('Não foi possivel registrar seus dados. Tente novamente.')\n",
        "\n",
        "\n",
        "print('=' * 20)\n",
        "\n",
        "print('.-.' * 10)\n",
        "print('Tele de Login')\n",
        "print('.-.' * 10)\n",
        "\n",
        "# solicitando o login \n",
        "login = True\n",
        "cont = 0\n",
        "\n",
        "while (login):\n",
        "  usuário = print('Bem vindo(a), {}!'.format(user))\n",
        "  password = int(input('Digite a sua senha numérica: '))\n",
        "  cont += 1\n",
        "\n",
        "  if password == senha:\n",
        "    print('Senha correta. Entrando no sistema...')\n",
        "    login = False\n",
        "  else:\n",
        "    print('Senha incorreta. Tente novamente.')\n",
        "\n",
        "print('Você entrou no sistema com {} tentativas'.format(cont))\n"
      ],
      "execution_count": 21,
      "outputs": [
        {
          "output_type": "stream",
          "text": [
            "====================\n",
            "Cadastre um usuário: Cabarros\n",
            "Cadastre uma senha numérica: 123\n",
            "Usuário e senha gravados com sucesso\n",
            "====================\n",
            ".-..-..-..-..-..-..-..-..-..-.\n",
            "Tele de Login\n",
            ".-..-..-..-..-..-..-..-..-..-.\n",
            "Bem vindo(a), Cabarros!\n",
            "Digite a sua senha numérica: 125\n",
            "Senha incorreta. Tente novamente.\n",
            "Bem vindo(a), Cabarros!\n",
            "Digite a sua senha numérica: 128\n",
            "Senha incorreta. Tente novamente.\n",
            "Bem vindo(a), Cabarros!\n",
            "Digite a sua senha numérica: 123\n",
            "Senha correta. Entrando no sistema...\n",
            "Você entrou no sistema com 3 tentativas\n"
          ],
          "name": "stdout"
        }
      ]
    },
    {
      "cell_type": "code",
      "metadata": {
        "id": "6iTC9nzfLIPq",
        "outputId": "ed5ffd5d-32c4-43db-e9fc-d535f42947aa",
        "colab": {
          "base_uri": "https://localhost:8080/"
        }
      },
      "source": [
        "# Exercício extra 4\n",
        "# sistema de banco\n",
        "\n",
        "print('.-.' * 10 )\n",
        "print('SBA - Sistema Bancário da Alice')\n",
        "print('.-.' * 10 )\n",
        "\n",
        "corrente = float(input('Digite o saldo da conta corrente: R$ '))\n",
        "poupança = float(input('Digite o saldo da conta poupança: R$ '))\n",
        "escolha = 0\n",
        "print('.-.' * 10)\n",
        "\n",
        "while escolha != 8:\n",
        "  print('[1] Depositar em conta corrente')\n",
        "  print('[2] Depositar em poupança')\n",
        "  print('[3] Extrair da conta corrente')\n",
        "  print('[4] Extrair da poupança')\n",
        "  print('[5] Transferir da conta corrente para poupança')\n",
        "  print('[6] Transferir da poupança para conta corrente')\n",
        "  print('[7] Mostrar o histórico das operações')\n",
        "  print('[8] Sair do sistema bancário')\n",
        "  escolha = int(input('>>>>> Qual será a sua escolha, Alice? '))\n",
        "\n",
        "  if escolha == 1:\n",
        "    print('.-.' * 10)\n",
        "    deposito_corrente = float(input('>>>> Digite o valor que quer depositar na conta corrente: R$ '))\n",
        "    corrente += deposito_corrente\n",
        "    print('Você depositou R${} na sua conta corrente e o seu saldo é de R${}'.format(deposito_corrente, corrente))\n",
        "    print('.-.' * 10)\n",
        "  elif escolha == 2:\n",
        "    print('.-.' * 10)\n",
        "    deposito_poupança = float(input('>>>> Digite o valor que quer depositar na sua poupança: R$ '))\n",
        "    poupança += deposito_poupança\n",
        "    print('Você depositou R$ {} na sua poupança e o seu saldo agora é R${}'.format(deposito_poupança, poupança))\n",
        "  elif escolha == 3:\n",
        "    print('.-.' * 10 )\n",
        "    debito_corrente = float(input('>>>> Digite o valor que quer sacar da sua conta corrente: R$ '))\n",
        "    corrente -= debito_corrente\n",
        "    print('Você sacou R${} da sua conta corrente. Saldo: R${}'.format(debito_corrente, corrente))\n",
        "    print('.-.' * 10 )\n",
        "  elif escolha == 4:\n",
        "    print('.-.' * 10 )\n",
        "    debito_poupança = float(input('>>>> Digite o valor que quer sacar da poupança: R$ '))\n",
        "    poupança -= debito_poupança\n",
        "    print('Você sacou R${} da sua poupança. Saldo: R${}'.format(debito_poupança, poupança))\n",
        "    print('.-.' * 10 )\n",
        "  elif escolha == 5:\n",
        "    print('.-.' * 10 )\n",
        "    transfere_corrente = float(input('>>>> Digite o valor que quer transferir para a sua conta poupança: R$ '))\n",
        "    corrente -= transfere_corrente\n",
        "    poupança += transfere_corrente\n",
        "    print('Você transferiu R${} para sua conta poupança. Saldo conta corrente: R${}'.format(transfere_corrente, corrente))\n",
        "    print('Saldo Poupança: R${}'.format(poupança))\n",
        "    print('.-.' * 10 )\n",
        "  elif escolha == 6:\n",
        "    print('.-.' * 10 )\n",
        "    t_poupança = float(input('>>>> Digite o valor que quer transferir para sua conta corrente: R$ '))\n",
        "    poupança -= t_poupança\n",
        "    corrente += t_poupança\n",
        "    print('Você transferiu R${} para sua conta corrente. Saldo Poupança: R${}'.format(t_poupança, poupança))\n",
        "    print('Saldo conta corrente: R${}'.format(corrente))\n",
        "    print('.-.' * 10 )\n",
        "  elif escolha == 7:\n",
        "    print('Ainda não descobri como fazer esta operação. Tente mais tarde.') #descobrir como fazer o histórico das operações\n",
        "  elif escolha == 8:\n",
        "    print('-=-' * 10)\n",
        "    print('Finalizando o sistema...')\n",
        "    print('-=-' * 10)\n",
        "  else:\n",
        "    print('Opção inválida. Tente novamente.')\n",
        "\n"
      ],
      "execution_count": 41,
      "outputs": [
        {
          "output_type": "stream",
          "text": [
            ".-..-..-..-..-..-..-..-..-..-.\n",
            "SBA - Sistema Bancário da Alice\n",
            ".-..-..-..-..-..-..-..-..-..-.\n",
            "Digite o saldo da conta corrente: R$ 500\n",
            "Digite o saldo da conta poupança: R$ 100\n",
            ".-..-..-..-..-..-..-..-..-..-.\n",
            "[1] Depositar em conta corrente\n",
            "[2] Depositar em poupança\n",
            "[3] Extrair da conta corrente\n",
            "[4] Extrair da poupança\n",
            "[5] Transferir da conta corrente para poupança\n",
            "[6] Transferir da poupança para conta corrente\n",
            "[7] Mostrar o histórico das operações\n",
            "[8] Sair do sistema bancário\n",
            ">>>>> Qual será a sua escolha, Alice? 8\n",
            "-=--=--=--=--=--=--=--=--=--=-\n",
            "Finalizando o sistema...\n",
            "-=--=--=--=--=--=--=--=--=--=-\n"
          ],
          "name": "stdout"
        }
      ]
    },
    {
      "cell_type": "code",
      "metadata": {
        "id": "qaafuMuXbSCs",
        "outputId": "09167521-2566-4c47-e5a8-8011f709c388",
        "colab": {
          "base_uri": "https://localhost:8080/"
        }
      },
      "source": [
        "# Exercício 64\n",
        "# Tratando valores\n",
        "\n",
        "valores = count = soma = 0 \n",
        "valores = int(input('Digite um número: '))\n",
        "while valores != 999:\n",
        "  count += 1\n",
        "  soma += valores\n",
        "  valores = int(input('Digite um número: '))\n",
        "\n",
        "print('Foram digitados {} valores e a soma deles é {}'.format(count, soma))  "
      ],
      "execution_count": 48,
      "outputs": [
        {
          "output_type": "stream",
          "text": [
            "Digite um número: 8\n",
            "Digite um número: 9\n",
            "Digite um número: 3\n",
            "Digite um número: 999\n",
            "Foram digitados 3 valores e a soma deles é 20\n"
          ],
          "name": "stdout"
        }
      ]
    },
    {
      "cell_type": "code",
      "metadata": {
        "id": "nrl9UhSWd9I0"
      },
      "source": [
        ""
      ],
      "execution_count": null,
      "outputs": []
    }
  ]
}