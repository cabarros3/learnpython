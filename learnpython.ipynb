{
  "nbformat": 4,
  "nbformat_minor": 0,
  "metadata": {
    "colab": {
      "name": "learnpython.ipynb",
      "provenance": [],
      "authorship_tag": "ABX9TyMfvO6m7pOiKgOqzCXE03eN",
      "include_colab_link": true
    },
    "kernelspec": {
      "name": "python3",
      "display_name": "Python 3"
    }
  },
  "cells": [
    {
      "cell_type": "markdown",
      "metadata": {
        "id": "view-in-github",
        "colab_type": "text"
      },
      "source": [
        "<a href=\"https://colab.research.google.com/github/cabarros3/learnpython/blob/main/learnpython.ipynb\" target=\"_parent\"><img src=\"https://colab.research.google.com/assets/colab-badge.svg\" alt=\"Open In Colab\"/></a>"
      ]
    },
    {
      "cell_type": "markdown",
      "metadata": {
        "id": "G8rzYa2LZChu"
      },
      "source": [
        "##Aprendendo Python\n",
        "\n",
        "*   (contra barra ' ) serve para inserir um apostrofo dentro de uma string (exemplo 1)\n",
        "*   Para inserir uma nova linha dentro de uma string use \\n (exemple 2)\n",
        "*   Para fazer um comentário multilinhas ''' (escreve-se três aspas simples ou duplas) - exemple 3\n",
        "*   Item da lista\n",
        "\n",
        "\n",
        "\n"
      ]
    },
    {
      "cell_type": "code",
      "metadata": {
        "id": "e4mpCrq2Y9EX",
        "outputId": "3d952c4c-5935-4be1-870d-07de1f9dd31f",
        "colab": {
          "base_uri": "https://localhost:8080/",
          "height": 34
        }
      },
      "source": [
        "# Exemple 1 - Beispiel 1\n",
        "# neste caso a contra barra (ou qualquer barra) no inglês se chama blackslash/blackslashes\n",
        "# barra tradicional (/) se chama apenas slash\n",
        "print('Brian\\'s mother: He\\'s not an angel. He\\'s a very naughty boy!')"
      ],
      "execution_count": 1,
      "outputs": [
        {
          "output_type": "stream",
          "text": [
            "Brian's mother: He's not an angel. He's a very naughty boy!\n"
          ],
          "name": "stdout"
        }
      ]
    },
    {
      "cell_type": "code",
      "metadata": {
        "id": "JjtNJc59awbX",
        "outputId": "dee7ef21-68f0-4b30-ef41-ae7ce0a543c9",
        "colab": {
          "base_uri": "https://localhost:8080/",
          "height": 68
        }
      },
      "source": [
        "# Exemple 2 - beispiel 2\n",
        "#utilizando a quebra de linha com o \\n\n",
        "print('lista: \\nItem 1\\nItem 2')"
      ],
      "execution_count": 2,
      "outputs": [
        {
          "output_type": "stream",
          "text": [
            "lista: \n",
            "Item 1\n",
            "Item 2\n"
          ],
          "name": "stdout"
        }
      ]
    },
    {
      "cell_type": "code",
      "metadata": {
        "id": "TqrdsByzcG4t",
        "outputId": "7f8bedbf-d68f-44de-bc00-871946142b58",
        "colab": {
          "base_uri": "https://localhost:8080/",
          "height": 68
        }
      },
      "source": [
        "# Exemple 3 - biespiel 3\n",
        "# utilizando comentário multilinha e texto multilinha dentro da estring\n",
        "print('''Este é um texto multilinha\n",
        "linha 1\n",
        "linha 2''')"
      ],
      "execution_count": 4,
      "outputs": [
        {
          "output_type": "stream",
          "text": [
            "Este é um texto multilinha\n",
            "linha 1\n",
            "linha 2\n"
          ],
          "name": "stdout"
        }
      ]
    }
  ]
}